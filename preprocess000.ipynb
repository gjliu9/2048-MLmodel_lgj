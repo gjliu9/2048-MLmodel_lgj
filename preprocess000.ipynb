{
 "cells": [
  {
   "cell_type": "code",
   "execution_count": 1,
   "metadata": {},
   "outputs": [],
   "source": [
    "import json\n",
    "import numpy as np\n",
    "from game2048.game import Game"
   ]
  },
  {
   "cell_type": "code",
   "execution_count": 6,
   "metadata": {},
   "outputs": [],
   "source": [
    "from collections import Counter\n",
    "from exp_imitation_learning.model import RNN\n",
    "from game2048.agents import ExpectiMaxAgent as TestAgent\n"
   ]
  },
  {
   "cell_type": "code",
   "execution_count": 12,
   "metadata": {},
   "outputs": [],
   "source": [
    "import json\n",
    "import numpy as np\n",
    "from game2048.game import Game\n",
    "\n",
    "\n",
    "def generate_fingerprint(AgentClass, **kwargs):\n",
    "    with open(\"board_cases.json\") as f:\n",
    "        board_json = json.load(f)\n",
    "\n",
    "    game = Game(size=4, enable_rewrite_board=True)\n",
    "    agent = AgentClass(game=game, **kwargs)\n",
    "\n",
    "    trace = []\n",
    "    for board in board_json:\n",
    "        game.board = np.array(board)\n",
    "        direction = agent.step()\n",
    "        trace.append(direction)\n",
    "    fingerprint = \"\".join(str(i) for i in trace)\n",
    "    return fingerprint\n",
    "\n",
    "\n",
    "if __name__ == '__main__':\n",
    "    from collections import Counter\n",
    "\n",
    "    '''====================\n",
    "    Use your own agent here.'''\n",
    "    from exp_imitation_learning.model import RNN\n",
    "    from game2048.agents import ExpectiMaxAgent as TestAgent\n",
    "    '''===================='''\n",
    "\n",
    "    fingerprint = generate_fingerprint(TestAgent)\n",
    "\n",
    "    with open(\"EE369_fingerprint.json\", 'w') as f:        \n",
    "        pack = dict()\n",
    "        pack['fingerprint'] = fingerprint\n",
    "        pack['statstics'] = dict(Counter(fingerprint))\n",
    "        f.write(json.dumps(pack, indent=4))"
   ]
  },
  {
   "cell_type": "code",
   "execution_count": 9,
   "metadata": {},
   "outputs": [],
   "source": [
    "def generate_fingerprint(AgentClass, **kwargs):\n",
    "    i=0\n",
    "    with open(\"board_cases.json\") as f:\n",
    "        board_json = json.load(f)\n",
    "\n",
    "    game = Game(size=4, enable_rewrite_board=True)\n",
    "    agent = AgentClass(game=game, **kwargs)\n",
    "\n",
    "    trace = []\n",
    "    for board in board_json:\n",
    "        game.board = np.array(board)\n",
    "        direction = agent.step()\n",
    "        trace.append(direction)\n",
    "        i=i+1\n",
    "        if i==1:\n",
    "            break\n",
    "            \n",
    "    fingerprint = \"\".join(str(i) for i in trace)\n",
    "    \n",
    "    \n",
    "    return fingerprint"
   ]
  },
  {
   "cell_type": "code",
   "execution_count": 10,
   "metadata": {},
   "outputs": [],
   "source": [
    "fingerprint = generate_fingerprint(TestAgent)"
   ]
  },
  {
   "cell_type": "code",
   "execution_count": 1,
   "metadata": {},
   "outputs": [],
   "source": [
    "from game2048.game import Game\n",
    "from game2048.displays import Display, IPythonDisplay\n",
    "import game2048.agents\n",
    "from game2048.agents import Agent, RandomAgent, ExpectiMaxAgent, getBoardFormExpect, MyRnnAgent\n",
    "import torch\n",
    "import torch.nn as nn\n",
    "import torch.utils.data as data\n",
    "import torchvision\n",
    "import torchvision.transforms as transforms\n",
    "import time\n",
    "from torch.autograd import Variable\n",
    "import pandas as pd\n",
    "import numpy as np\n",
    "from torch.utils.data import Dataset, DataLoader, TensorDataset"
   ]
  },
  {
   "cell_type": "code",
   "execution_count": 184,
   "metadata": {},
   "outputs": [],
   "source": [
    "#参数设置\n",
    "NUM_EPOCHS = 100\n",
    "BATCH_SIZE = 64\n",
    "TIME_STEP = 4\n",
    "INPUT_SIZE = 4\n",
    "LR = 0.001\n",
    "test_size = 4\n",
    "trainfilertoread = '/DATA5_DB8/data/gjliu/game2048/dataset/Train2.csv'\n",
    "testfiletoread = 'Test.csv'"
   ]
  },
  {
   "cell_type": "code",
   "execution_count": 5,
   "metadata": {},
   "outputs": [],
   "source": [
    "display1 = Display()\n",
    "display2 = IPythonDisplay()"
   ]
  },
  {
   "cell_type": "code",
   "execution_count": null,
   "metadata": {},
   "outputs": [
    {
     "data": {
      "text/html": [
       "<h1>Score: 4</h1><table style=\"border: 5px solid black;\"><tr><td style=\"border:3px solid black; text-align:center;\"\n",
       "         width=\"40\" height=\"40\"></td><td style=\"border:3px solid black; text-align:center;\"\n",
       "         width=\"40\" height=\"40\"></td><td style=\"border:3px solid black; text-align:center;\"\n",
       "         width=\"40\" height=\"40\"></td><td style=\"border:3px solid black; text-align:center;\"\n",
       "         width=\"40\" height=\"40\"></td></tr><tr><td style=\"border:3px solid black; text-align:center;\"\n",
       "         width=\"40\" height=\"40\"></td><td style=\"border:3px solid black; text-align:center;\"\n",
       "         width=\"40\" height=\"40\"></td><td style=\"border:3px solid black; text-align:center;\"\n",
       "         width=\"40\" height=\"40\"></td><td style=\"border:3px solid black; text-align:center;\"\n",
       "         width=\"40\" height=\"40\"></td></tr><tr><td style=\"border:3px solid black; text-align:center;\"\n",
       "         width=\"40\" height=\"40\"></td><td style=\"border:3px solid black; text-align:center;\"\n",
       "         width=\"40\" height=\"40\"></td><td style=\"border:3px solid black; text-align:center;\"\n",
       "         width=\"40\" height=\"40\"></td><td style=\"border:3px solid black; text-align:center;\"\n",
       "         width=\"40\" height=\"40\"></td></tr><tr><td style=\"border:3px solid black; text-align:center;\"\n",
       "         width=\"40\" height=\"40\">4</td><td style=\"border:3px solid black; text-align:center;\"\n",
       "         width=\"40\" height=\"40\"></td><td style=\"border:3px solid black; text-align:center;\"\n",
       "         width=\"40\" height=\"40\">4</td><td style=\"border:3px solid black; text-align:center;\"\n",
       "         width=\"40\" height=\"40\"></td></tr></table>"
      ],
      "text/plain": [
       "<IPython.core.display.HTML object>"
      ]
     },
     "metadata": {},
     "output_type": "display_data"
    },
    {
     "name": "stdout",
     "output_type": "stream",
     "text": [
      "0\n"
     ]
    },
    {
     "data": {
      "text/html": [
       "<h1>Score: 4</h1><table style=\"border: 5px solid black;\"><tr><td style=\"border:3px solid black; text-align:center;\"\n",
       "         width=\"40\" height=\"40\"></td><td style=\"border:3px solid black; text-align:center;\"\n",
       "         width=\"40\" height=\"40\"></td><td style=\"border:3px solid black; text-align:center;\"\n",
       "         width=\"40\" height=\"40\"></td><td style=\"border:3px solid black; text-align:center;\"\n",
       "         width=\"40\" height=\"40\"></td></tr><tr><td style=\"border:3px solid black; text-align:center;\"\n",
       "         width=\"40\" height=\"40\"></td><td style=\"border:3px solid black; text-align:center;\"\n",
       "         width=\"40\" height=\"40\"></td><td style=\"border:3px solid black; text-align:center;\"\n",
       "         width=\"40\" height=\"40\"></td><td style=\"border:3px solid black; text-align:center;\"\n",
       "         width=\"40\" height=\"40\"></td></tr><tr><td style=\"border:3px solid black; text-align:center;\"\n",
       "         width=\"40\" height=\"40\"></td><td style=\"border:3px solid black; text-align:center;\"\n",
       "         width=\"40\" height=\"40\"></td><td style=\"border:3px solid black; text-align:center;\"\n",
       "         width=\"40\" height=\"40\"></td><td style=\"border:3px solid black; text-align:center;\"\n",
       "         width=\"40\" height=\"40\"></td></tr><tr><td style=\"border:3px solid black; text-align:center;\"\n",
       "         width=\"40\" height=\"40\"></td><td style=\"border:3px solid black; text-align:center;\"\n",
       "         width=\"40\" height=\"40\">4</td><td style=\"border:3px solid black; text-align:center;\"\n",
       "         width=\"40\" height=\"40\"></td><td style=\"border:3px solid black; text-align:center;\"\n",
       "         width=\"40\" height=\"40\">2</td></tr></table>"
      ],
      "text/plain": [
       "<IPython.core.display.HTML object>"
      ]
     },
     "metadata": {},
     "output_type": "display_data"
    },
    {
     "name": "stdout",
     "output_type": "stream",
     "text": [
      "1\n"
     ]
    },
    {
     "data": {
      "text/html": [
       "<h1>Score: 2</h1><table style=\"border: 5px solid black;\"><tr><td style=\"border:3px solid black; text-align:center;\"\n",
       "         width=\"40\" height=\"40\"></td><td style=\"border:3px solid black; text-align:center;\"\n",
       "         width=\"40\" height=\"40\"></td><td style=\"border:3px solid black; text-align:center;\"\n",
       "         width=\"40\" height=\"40\"></td><td style=\"border:3px solid black; text-align:center;\"\n",
       "         width=\"40\" height=\"40\"></td></tr><tr><td style=\"border:3px solid black; text-align:center;\"\n",
       "         width=\"40\" height=\"40\"></td><td style=\"border:3px solid black; text-align:center;\"\n",
       "         width=\"40\" height=\"40\">2</td><td style=\"border:3px solid black; text-align:center;\"\n",
       "         width=\"40\" height=\"40\"></td><td style=\"border:3px solid black; text-align:center;\"\n",
       "         width=\"40\" height=\"40\"></td></tr><tr><td style=\"border:3px solid black; text-align:center;\"\n",
       "         width=\"40\" height=\"40\"></td><td style=\"border:3px solid black; text-align:center;\"\n",
       "         width=\"40\" height=\"40\"></td><td style=\"border:3px solid black; text-align:center;\"\n",
       "         width=\"40\" height=\"40\">2</td><td style=\"border:3px solid black; text-align:center;\"\n",
       "         width=\"40\" height=\"40\"></td></tr><tr><td style=\"border:3px solid black; text-align:center;\"\n",
       "         width=\"40\" height=\"40\"></td><td style=\"border:3px solid black; text-align:center;\"\n",
       "         width=\"40\" height=\"40\"></td><td style=\"border:3px solid black; text-align:center;\"\n",
       "         width=\"40\" height=\"40\"></td><td style=\"border:3px solid black; text-align:center;\"\n",
       "         width=\"40\" height=\"40\"></td></tr></table>"
      ],
      "text/plain": [
       "<IPython.core.display.HTML object>"
      ]
     },
     "metadata": {},
     "output_type": "display_data"
    },
    {
     "name": "stdout",
     "output_type": "stream",
     "text": [
      "2\n"
     ]
    },
    {
     "data": {
      "text/html": [
       "<h1>Score: 2</h1><table style=\"border: 5px solid black;\"><tr><td style=\"border:3px solid black; text-align:center;\"\n",
       "         width=\"40\" height=\"40\"></td><td style=\"border:3px solid black; text-align:center;\"\n",
       "         width=\"40\" height=\"40\"></td><td style=\"border:3px solid black; text-align:center;\"\n",
       "         width=\"40\" height=\"40\">2</td><td style=\"border:3px solid black; text-align:center;\"\n",
       "         width=\"40\" height=\"40\"></td></tr><tr><td style=\"border:3px solid black; text-align:center;\"\n",
       "         width=\"40\" height=\"40\"></td><td style=\"border:3px solid black; text-align:center;\"\n",
       "         width=\"40\" height=\"40\"></td><td style=\"border:3px solid black; text-align:center;\"\n",
       "         width=\"40\" height=\"40\"></td><td style=\"border:3px solid black; text-align:center;\"\n",
       "         width=\"40\" height=\"40\"></td></tr><tr><td style=\"border:3px solid black; text-align:center;\"\n",
       "         width=\"40\" height=\"40\"></td><td style=\"border:3px solid black; text-align:center;\"\n",
       "         width=\"40\" height=\"40\"></td><td style=\"border:3px solid black; text-align:center;\"\n",
       "         width=\"40\" height=\"40\">2</td><td style=\"border:3px solid black; text-align:center;\"\n",
       "         width=\"40\" height=\"40\"></td></tr><tr><td style=\"border:3px solid black; text-align:center;\"\n",
       "         width=\"40\" height=\"40\"></td><td style=\"border:3px solid black; text-align:center;\"\n",
       "         width=\"40\" height=\"40\"></td><td style=\"border:3px solid black; text-align:center;\"\n",
       "         width=\"40\" height=\"40\"></td><td style=\"border:3px solid black; text-align:center;\"\n",
       "         width=\"40\" height=\"40\"></td></tr></table>"
      ],
      "text/plain": [
       "<IPython.core.display.HTML object>"
      ]
     },
     "metadata": {},
     "output_type": "display_data"
    },
    {
     "name": "stdout",
     "output_type": "stream",
     "text": [
      "3\n"
     ]
    },
    {
     "data": {
      "text/html": [
       "<h1>Score: 4</h1><table style=\"border: 5px solid black;\"><tr><td style=\"border:3px solid black; text-align:center;\"\n",
       "         width=\"40\" height=\"40\">2</td><td style=\"border:3px solid black; text-align:center;\"\n",
       "         width=\"40\" height=\"40\"></td><td style=\"border:3px solid black; text-align:center;\"\n",
       "         width=\"40\" height=\"40\"></td><td style=\"border:3px solid black; text-align:center;\"\n",
       "         width=\"40\" height=\"40\"></td></tr><tr><td style=\"border:3px solid black; text-align:center;\"\n",
       "         width=\"40\" height=\"40\"></td><td style=\"border:3px solid black; text-align:center;\"\n",
       "         width=\"40\" height=\"40\"></td><td style=\"border:3px solid black; text-align:center;\"\n",
       "         width=\"40\" height=\"40\"></td><td style=\"border:3px solid black; text-align:center;\"\n",
       "         width=\"40\" height=\"40\">4</td></tr><tr><td style=\"border:3px solid black; text-align:center;\"\n",
       "         width=\"40\" height=\"40\"></td><td style=\"border:3px solid black; text-align:center;\"\n",
       "         width=\"40\" height=\"40\"></td><td style=\"border:3px solid black; text-align:center;\"\n",
       "         width=\"40\" height=\"40\"></td><td style=\"border:3px solid black; text-align:center;\"\n",
       "         width=\"40\" height=\"40\"></td></tr><tr><td style=\"border:3px solid black; text-align:center;\"\n",
       "         width=\"40\" height=\"40\"></td><td style=\"border:3px solid black; text-align:center;\"\n",
       "         width=\"40\" height=\"40\"></td><td style=\"border:3px solid black; text-align:center;\"\n",
       "         width=\"40\" height=\"40\"></td><td style=\"border:3px solid black; text-align:center;\"\n",
       "         width=\"40\" height=\"40\"></td></tr></table>"
      ],
      "text/plain": [
       "<IPython.core.display.HTML object>"
      ]
     },
     "metadata": {},
     "output_type": "display_data"
    },
    {
     "name": "stdout",
     "output_type": "stream",
     "text": [
      "4\n"
     ]
    },
    {
     "data": {
      "text/html": [
       "<h1>Score: 4</h1><table style=\"border: 5px solid black;\"><tr><td style=\"border:3px solid black; text-align:center;\"\n",
       "         width=\"40\" height=\"40\"></td><td style=\"border:3px solid black; text-align:center;\"\n",
       "         width=\"40\" height=\"40\"></td><td style=\"border:3px solid black; text-align:center;\"\n",
       "         width=\"40\" height=\"40\"></td><td style=\"border:3px solid black; text-align:center;\"\n",
       "         width=\"40\" height=\"40\"></td></tr><tr><td style=\"border:3px solid black; text-align:center;\"\n",
       "         width=\"40\" height=\"40\"></td><td style=\"border:3px solid black; text-align:center;\"\n",
       "         width=\"40\" height=\"40\">4</td><td style=\"border:3px solid black; text-align:center;\"\n",
       "         width=\"40\" height=\"40\"></td><td style=\"border:3px solid black; text-align:center;\"\n",
       "         width=\"40\" height=\"40\">4</td></tr><tr><td style=\"border:3px solid black; text-align:center;\"\n",
       "         width=\"40\" height=\"40\"></td><td style=\"border:3px solid black; text-align:center;\"\n",
       "         width=\"40\" height=\"40\"></td><td style=\"border:3px solid black; text-align:center;\"\n",
       "         width=\"40\" height=\"40\"></td><td style=\"border:3px solid black; text-align:center;\"\n",
       "         width=\"40\" height=\"40\"></td></tr><tr><td style=\"border:3px solid black; text-align:center;\"\n",
       "         width=\"40\" height=\"40\"></td><td style=\"border:3px solid black; text-align:center;\"\n",
       "         width=\"40\" height=\"40\"></td><td style=\"border:3px solid black; text-align:center;\"\n",
       "         width=\"40\" height=\"40\"></td><td style=\"border:3px solid black; text-align:center;\"\n",
       "         width=\"40\" height=\"40\"></td></tr></table>"
      ],
      "text/plain": [
       "<IPython.core.display.HTML object>"
      ]
     },
     "metadata": {},
     "output_type": "display_data"
    },
    {
     "name": "stdout",
     "output_type": "stream",
     "text": [
      "5\n"
     ]
    },
    {
     "data": {
      "text/html": [
       "<h1>Score: 2</h1><table style=\"border: 5px solid black;\"><tr><td style=\"border:3px solid black; text-align:center;\"\n",
       "         width=\"40\" height=\"40\"></td><td style=\"border:3px solid black; text-align:center;\"\n",
       "         width=\"40\" height=\"40\"></td><td style=\"border:3px solid black; text-align:center;\"\n",
       "         width=\"40\" height=\"40\"></td><td style=\"border:3px solid black; text-align:center;\"\n",
       "         width=\"40\" height=\"40\"></td></tr><tr><td style=\"border:3px solid black; text-align:center;\"\n",
       "         width=\"40\" height=\"40\"></td><td style=\"border:3px solid black; text-align:center;\"\n",
       "         width=\"40\" height=\"40\"></td><td style=\"border:3px solid black; text-align:center;\"\n",
       "         width=\"40\" height=\"40\">2</td><td style=\"border:3px solid black; text-align:center;\"\n",
       "         width=\"40\" height=\"40\"></td></tr><tr><td style=\"border:3px solid black; text-align:center;\"\n",
       "         width=\"40\" height=\"40\"></td><td style=\"border:3px solid black; text-align:center;\"\n",
       "         width=\"40\" height=\"40\"></td><td style=\"border:3px solid black; text-align:center;\"\n",
       "         width=\"40\" height=\"40\"></td><td style=\"border:3px solid black; text-align:center;\"\n",
       "         width=\"40\" height=\"40\">2</td></tr><tr><td style=\"border:3px solid black; text-align:center;\"\n",
       "         width=\"40\" height=\"40\"></td><td style=\"border:3px solid black; text-align:center;\"\n",
       "         width=\"40\" height=\"40\"></td><td style=\"border:3px solid black; text-align:center;\"\n",
       "         width=\"40\" height=\"40\"></td><td style=\"border:3px solid black; text-align:center;\"\n",
       "         width=\"40\" height=\"40\"></td></tr></table>"
      ],
      "text/plain": [
       "<IPython.core.display.HTML object>"
      ]
     },
     "metadata": {},
     "output_type": "display_data"
    },
    {
     "name": "stdout",
     "output_type": "stream",
     "text": [
      "6\n"
     ]
    },
    {
     "data": {
      "text/html": [
       "<h1>Score: 2</h1><table style=\"border: 5px solid black;\"><tr><td style=\"border:3px solid black; text-align:center;\"\n",
       "         width=\"40\" height=\"40\"></td><td style=\"border:3px solid black; text-align:center;\"\n",
       "         width=\"40\" height=\"40\"></td><td style=\"border:3px solid black; text-align:center;\"\n",
       "         width=\"40\" height=\"40\"></td><td style=\"border:3px solid black; text-align:center;\"\n",
       "         width=\"40\" height=\"40\">2</td></tr><tr><td style=\"border:3px solid black; text-align:center;\"\n",
       "         width=\"40\" height=\"40\"></td><td style=\"border:3px solid black; text-align:center;\"\n",
       "         width=\"40\" height=\"40\"></td><td style=\"border:3px solid black; text-align:center;\"\n",
       "         width=\"40\" height=\"40\"></td><td style=\"border:3px solid black; text-align:center;\"\n",
       "         width=\"40\" height=\"40\"></td></tr><tr><td style=\"border:3px solid black; text-align:center;\"\n",
       "         width=\"40\" height=\"40\"></td><td style=\"border:3px solid black; text-align:center;\"\n",
       "         width=\"40\" height=\"40\"></td><td style=\"border:3px solid black; text-align:center;\"\n",
       "         width=\"40\" height=\"40\"></td><td style=\"border:3px solid black; text-align:center;\"\n",
       "         width=\"40\" height=\"40\"></td></tr><tr><td style=\"border:3px solid black; text-align:center;\"\n",
       "         width=\"40\" height=\"40\"></td><td style=\"border:3px solid black; text-align:center;\"\n",
       "         width=\"40\" height=\"40\"></td><td style=\"border:3px solid black; text-align:center;\"\n",
       "         width=\"40\" height=\"40\">2</td><td style=\"border:3px solid black; text-align:center;\"\n",
       "         width=\"40\" height=\"40\"></td></tr></table>"
      ],
      "text/plain": [
       "<IPython.core.display.HTML object>"
      ]
     },
     "metadata": {},
     "output_type": "display_data"
    },
    {
     "name": "stdout",
     "output_type": "stream",
     "text": [
      "7\n"
     ]
    },
    {
     "data": {
      "text/html": [
       "<h1>Score: 2</h1><table style=\"border: 5px solid black;\"><tr><td style=\"border:3px solid black; text-align:center;\"\n",
       "         width=\"40\" height=\"40\"></td><td style=\"border:3px solid black; text-align:center;\"\n",
       "         width=\"40\" height=\"40\"></td><td style=\"border:3px solid black; text-align:center;\"\n",
       "         width=\"40\" height=\"40\">2</td><td style=\"border:3px solid black; text-align:center;\"\n",
       "         width=\"40\" height=\"40\"></td></tr><tr><td style=\"border:3px solid black; text-align:center;\"\n",
       "         width=\"40\" height=\"40\"></td><td style=\"border:3px solid black; text-align:center;\"\n",
       "         width=\"40\" height=\"40\"></td><td style=\"border:3px solid black; text-align:center;\"\n",
       "         width=\"40\" height=\"40\"></td><td style=\"border:3px solid black; text-align:center;\"\n",
       "         width=\"40\" height=\"40\"></td></tr><tr><td style=\"border:3px solid black; text-align:center;\"\n",
       "         width=\"40\" height=\"40\"></td><td style=\"border:3px solid black; text-align:center;\"\n",
       "         width=\"40\" height=\"40\"></td><td style=\"border:3px solid black; text-align:center;\"\n",
       "         width=\"40\" height=\"40\"></td><td style=\"border:3px solid black; text-align:center;\"\n",
       "         width=\"40\" height=\"40\">2</td></tr><tr><td style=\"border:3px solid black; text-align:center;\"\n",
       "         width=\"40\" height=\"40\"></td><td style=\"border:3px solid black; text-align:center;\"\n",
       "         width=\"40\" height=\"40\"></td><td style=\"border:3px solid black; text-align:center;\"\n",
       "         width=\"40\" height=\"40\"></td><td style=\"border:3px solid black; text-align:center;\"\n",
       "         width=\"40\" height=\"40\"></td></tr></table>"
      ],
      "text/plain": [
       "<IPython.core.display.HTML object>"
      ]
     },
     "metadata": {},
     "output_type": "display_data"
    },
    {
     "name": "stdout",
     "output_type": "stream",
     "text": [
      "8\n"
     ]
    },
    {
     "data": {
      "text/html": [
       "<h1>Score: 2</h1><table style=\"border: 5px solid black;\"><tr><td style=\"border:3px solid black; text-align:center;\"\n",
       "         width=\"40\" height=\"40\"></td><td style=\"border:3px solid black; text-align:center;\"\n",
       "         width=\"40\" height=\"40\"></td><td style=\"border:3px solid black; text-align:center;\"\n",
       "         width=\"40\" height=\"40\"></td><td style=\"border:3px solid black; text-align:center;\"\n",
       "         width=\"40\" height=\"40\">2</td></tr><tr><td style=\"border:3px solid black; text-align:center;\"\n",
       "         width=\"40\" height=\"40\"></td><td style=\"border:3px solid black; text-align:center;\"\n",
       "         width=\"40\" height=\"40\"></td><td style=\"border:3px solid black; text-align:center;\"\n",
       "         width=\"40\" height=\"40\"></td><td style=\"border:3px solid black; text-align:center;\"\n",
       "         width=\"40\" height=\"40\"></td></tr><tr><td style=\"border:3px solid black; text-align:center;\"\n",
       "         width=\"40\" height=\"40\"></td><td style=\"border:3px solid black; text-align:center;\"\n",
       "         width=\"40\" height=\"40\"></td><td style=\"border:3px solid black; text-align:center;\"\n",
       "         width=\"40\" height=\"40\"></td><td style=\"border:3px solid black; text-align:center;\"\n",
       "         width=\"40\" height=\"40\"></td></tr><tr><td style=\"border:3px solid black; text-align:center;\"\n",
       "         width=\"40\" height=\"40\">2</td><td style=\"border:3px solid black; text-align:center;\"\n",
       "         width=\"40\" height=\"40\"></td><td style=\"border:3px solid black; text-align:center;\"\n",
       "         width=\"40\" height=\"40\"></td><td style=\"border:3px solid black; text-align:center;\"\n",
       "         width=\"40\" height=\"40\"></td></tr></table>"
      ],
      "text/plain": [
       "<IPython.core.display.HTML object>"
      ]
     },
     "metadata": {},
     "output_type": "display_data"
    },
    {
     "name": "stdout",
     "output_type": "stream",
     "text": [
      "9\n"
     ]
    },
    {
     "data": {
      "text/html": [
       "<h1>Score: 4</h1><table style=\"border: 5px solid black;\"><tr><td style=\"border:3px solid black; text-align:center;\"\n",
       "         width=\"40\" height=\"40\"></td><td style=\"border:3px solid black; text-align:center;\"\n",
       "         width=\"40\" height=\"40\"></td><td style=\"border:3px solid black; text-align:center;\"\n",
       "         width=\"40\" height=\"40\">2</td><td style=\"border:3px solid black; text-align:center;\"\n",
       "         width=\"40\" height=\"40\">4</td></tr><tr><td style=\"border:3px solid black; text-align:center;\"\n",
       "         width=\"40\" height=\"40\"></td><td style=\"border:3px solid black; text-align:center;\"\n",
       "         width=\"40\" height=\"40\"></td><td style=\"border:3px solid black; text-align:center;\"\n",
       "         width=\"40\" height=\"40\"></td><td style=\"border:3px solid black; text-align:center;\"\n",
       "         width=\"40\" height=\"40\"></td></tr><tr><td style=\"border:3px solid black; text-align:center;\"\n",
       "         width=\"40\" height=\"40\"></td><td style=\"border:3px solid black; text-align:center;\"\n",
       "         width=\"40\" height=\"40\"></td><td style=\"border:3px solid black; text-align:center;\"\n",
       "         width=\"40\" height=\"40\"></td><td style=\"border:3px solid black; text-align:center;\"\n",
       "         width=\"40\" height=\"40\"></td></tr><tr><td style=\"border:3px solid black; text-align:center;\"\n",
       "         width=\"40\" height=\"40\"></td><td style=\"border:3px solid black; text-align:center;\"\n",
       "         width=\"40\" height=\"40\"></td><td style=\"border:3px solid black; text-align:center;\"\n",
       "         width=\"40\" height=\"40\"></td><td style=\"border:3px solid black; text-align:center;\"\n",
       "         width=\"40\" height=\"40\"></td></tr></table>"
      ],
      "text/plain": [
       "<IPython.core.display.HTML object>"
      ]
     },
     "metadata": {},
     "output_type": "display_data"
    },
    {
     "name": "stdout",
     "output_type": "stream",
     "text": [
      "10\n"
     ]
    },
    {
     "data": {
      "text/html": [
       "<h1>Score: 4</h1><table style=\"border: 5px solid black;\"><tr><td style=\"border:3px solid black; text-align:center;\"\n",
       "         width=\"40\" height=\"40\"></td><td style=\"border:3px solid black; text-align:center;\"\n",
       "         width=\"40\" height=\"40\"></td><td style=\"border:3px solid black; text-align:center;\"\n",
       "         width=\"40\" height=\"40\"></td><td style=\"border:3px solid black; text-align:center;\"\n",
       "         width=\"40\" height=\"40\"></td></tr><tr><td style=\"border:3px solid black; text-align:center;\"\n",
       "         width=\"40\" height=\"40\"></td><td style=\"border:3px solid black; text-align:center;\"\n",
       "         width=\"40\" height=\"40\"></td><td style=\"border:3px solid black; text-align:center;\"\n",
       "         width=\"40\" height=\"40\"></td><td style=\"border:3px solid black; text-align:center;\"\n",
       "         width=\"40\" height=\"40\"></td></tr><tr><td style=\"border:3px solid black; text-align:center;\"\n",
       "         width=\"40\" height=\"40\">4</td><td style=\"border:3px solid black; text-align:center;\"\n",
       "         width=\"40\" height=\"40\"></td><td style=\"border:3px solid black; text-align:center;\"\n",
       "         width=\"40\" height=\"40\">2</td><td style=\"border:3px solid black; text-align:center;\"\n",
       "         width=\"40\" height=\"40\"></td></tr><tr><td style=\"border:3px solid black; text-align:center;\"\n",
       "         width=\"40\" height=\"40\"></td><td style=\"border:3px solid black; text-align:center;\"\n",
       "         width=\"40\" height=\"40\"></td><td style=\"border:3px solid black; text-align:center;\"\n",
       "         width=\"40\" height=\"40\"></td><td style=\"border:3px solid black; text-align:center;\"\n",
       "         width=\"40\" height=\"40\"></td></tr></table>"
      ],
      "text/plain": [
       "<IPython.core.display.HTML object>"
      ]
     },
     "metadata": {},
     "output_type": "display_data"
    },
    {
     "name": "stdout",
     "output_type": "stream",
     "text": [
      "11\n"
     ]
    },
    {
     "data": {
      "text/html": [
       "<h1>Score: 4</h1><table style=\"border: 5px solid black;\"><tr><td style=\"border:3px solid black; text-align:center;\"\n",
       "         width=\"40\" height=\"40\"></td><td style=\"border:3px solid black; text-align:center;\"\n",
       "         width=\"40\" height=\"40\">4</td><td style=\"border:3px solid black; text-align:center;\"\n",
       "         width=\"40\" height=\"40\"></td><td style=\"border:3px solid black; text-align:center;\"\n",
       "         width=\"40\" height=\"40\"></td></tr><tr><td style=\"border:3px solid black; text-align:center;\"\n",
       "         width=\"40\" height=\"40\"></td><td style=\"border:3px solid black; text-align:center;\"\n",
       "         width=\"40\" height=\"40\"></td><td style=\"border:3px solid black; text-align:center;\"\n",
       "         width=\"40\" height=\"40\"></td><td style=\"border:3px solid black; text-align:center;\"\n",
       "         width=\"40\" height=\"40\"></td></tr><tr><td style=\"border:3px solid black; text-align:center;\"\n",
       "         width=\"40\" height=\"40\"></td><td style=\"border:3px solid black; text-align:center;\"\n",
       "         width=\"40\" height=\"40\"></td><td style=\"border:3px solid black; text-align:center;\"\n",
       "         width=\"40\" height=\"40\"></td><td style=\"border:3px solid black; text-align:center;\"\n",
       "         width=\"40\" height=\"40\"></td></tr><tr><td style=\"border:3px solid black; text-align:center;\"\n",
       "         width=\"40\" height=\"40\">4</td><td style=\"border:3px solid black; text-align:center;\"\n",
       "         width=\"40\" height=\"40\"></td><td style=\"border:3px solid black; text-align:center;\"\n",
       "         width=\"40\" height=\"40\"></td><td style=\"border:3px solid black; text-align:center;\"\n",
       "         width=\"40\" height=\"40\"></td></tr></table>"
      ],
      "text/plain": [
       "<IPython.core.display.HTML object>"
      ]
     },
     "metadata": {},
     "output_type": "display_data"
    },
    {
     "name": "stdout",
     "output_type": "stream",
     "text": [
      "12\n"
     ]
    },
    {
     "data": {
      "text/html": [
       "<h1>Score: 4</h1><table style=\"border: 5px solid black;\"><tr><td style=\"border:3px solid black; text-align:center;\"\n",
       "         width=\"40\" height=\"40\">2</td><td style=\"border:3px solid black; text-align:center;\"\n",
       "         width=\"40\" height=\"40\"></td><td style=\"border:3px solid black; text-align:center;\"\n",
       "         width=\"40\" height=\"40\"></td><td style=\"border:3px solid black; text-align:center;\"\n",
       "         width=\"40\" height=\"40\"></td></tr><tr><td style=\"border:3px solid black; text-align:center;\"\n",
       "         width=\"40\" height=\"40\"></td><td style=\"border:3px solid black; text-align:center;\"\n",
       "         width=\"40\" height=\"40\"></td><td style=\"border:3px solid black; text-align:center;\"\n",
       "         width=\"40\" height=\"40\">4</td><td style=\"border:3px solid black; text-align:center;\"\n",
       "         width=\"40\" height=\"40\"></td></tr><tr><td style=\"border:3px solid black; text-align:center;\"\n",
       "         width=\"40\" height=\"40\"></td><td style=\"border:3px solid black; text-align:center;\"\n",
       "         width=\"40\" height=\"40\"></td><td style=\"border:3px solid black; text-align:center;\"\n",
       "         width=\"40\" height=\"40\"></td><td style=\"border:3px solid black; text-align:center;\"\n",
       "         width=\"40\" height=\"40\"></td></tr><tr><td style=\"border:3px solid black; text-align:center;\"\n",
       "         width=\"40\" height=\"40\"></td><td style=\"border:3px solid black; text-align:center;\"\n",
       "         width=\"40\" height=\"40\"></td><td style=\"border:3px solid black; text-align:center;\"\n",
       "         width=\"40\" height=\"40\"></td><td style=\"border:3px solid black; text-align:center;\"\n",
       "         width=\"40\" height=\"40\"></td></tr></table>"
      ],
      "text/plain": [
       "<IPython.core.display.HTML object>"
      ]
     },
     "metadata": {},
     "output_type": "display_data"
    },
    {
     "name": "stdout",
     "output_type": "stream",
     "text": [
      "13\n"
     ]
    },
    {
     "data": {
      "text/html": [
       "<h1>Score: 2</h1><table style=\"border: 5px solid black;\"><tr><td style=\"border:3px solid black; text-align:center;\"\n",
       "         width=\"40\" height=\"40\"></td><td style=\"border:3px solid black; text-align:center;\"\n",
       "         width=\"40\" height=\"40\"></td><td style=\"border:3px solid black; text-align:center;\"\n",
       "         width=\"40\" height=\"40\">2</td><td style=\"border:3px solid black; text-align:center;\"\n",
       "         width=\"40\" height=\"40\"></td></tr><tr><td style=\"border:3px solid black; text-align:center;\"\n",
       "         width=\"40\" height=\"40\"></td><td style=\"border:3px solid black; text-align:center;\"\n",
       "         width=\"40\" height=\"40\"></td><td style=\"border:3px solid black; text-align:center;\"\n",
       "         width=\"40\" height=\"40\"></td><td style=\"border:3px solid black; text-align:center;\"\n",
       "         width=\"40\" height=\"40\"></td></tr><tr><td style=\"border:3px solid black; text-align:center;\"\n",
       "         width=\"40\" height=\"40\"></td><td style=\"border:3px solid black; text-align:center;\"\n",
       "         width=\"40\" height=\"40\"></td><td style=\"border:3px solid black; text-align:center;\"\n",
       "         width=\"40\" height=\"40\"></td><td style=\"border:3px solid black; text-align:center;\"\n",
       "         width=\"40\" height=\"40\"></td></tr><tr><td style=\"border:3px solid black; text-align:center;\"\n",
       "         width=\"40\" height=\"40\"></td><td style=\"border:3px solid black; text-align:center;\"\n",
       "         width=\"40\" height=\"40\"></td><td style=\"border:3px solid black; text-align:center;\"\n",
       "         width=\"40\" height=\"40\">2</td><td style=\"border:3px solid black; text-align:center;\"\n",
       "         width=\"40\" height=\"40\"></td></tr></table>"
      ],
      "text/plain": [
       "<IPython.core.display.HTML object>"
      ]
     },
     "metadata": {},
     "output_type": "display_data"
    },
    {
     "name": "stdout",
     "output_type": "stream",
     "text": [
      "14\n"
     ]
    },
    {
     "data": {
      "text/html": [
       "<h1>Score: 4</h1><table style=\"border: 5px solid black;\"><tr><td style=\"border:3px solid black; text-align:center;\"\n",
       "         width=\"40\" height=\"40\"></td><td style=\"border:3px solid black; text-align:center;\"\n",
       "         width=\"40\" height=\"40\"></td><td style=\"border:3px solid black; text-align:center;\"\n",
       "         width=\"40\" height=\"40\"></td><td style=\"border:3px solid black; text-align:center;\"\n",
       "         width=\"40\" height=\"40\"></td></tr><tr><td style=\"border:3px solid black; text-align:center;\"\n",
       "         width=\"40\" height=\"40\"></td><td style=\"border:3px solid black; text-align:center;\"\n",
       "         width=\"40\" height=\"40\"></td><td style=\"border:3px solid black; text-align:center;\"\n",
       "         width=\"40\" height=\"40\"></td><td style=\"border:3px solid black; text-align:center;\"\n",
       "         width=\"40\" height=\"40\"></td></tr><tr><td style=\"border:3px solid black; text-align:center;\"\n",
       "         width=\"40\" height=\"40\"></td><td style=\"border:3px solid black; text-align:center;\"\n",
       "         width=\"40\" height=\"40\"></td><td style=\"border:3px solid black; text-align:center;\"\n",
       "         width=\"40\" height=\"40\"></td><td style=\"border:3px solid black; text-align:center;\"\n",
       "         width=\"40\" height=\"40\"></td></tr><tr><td style=\"border:3px solid black; text-align:center;\"\n",
       "         width=\"40\" height=\"40\"></td><td style=\"border:3px solid black; text-align:center;\"\n",
       "         width=\"40\" height=\"40\">4</td><td style=\"border:3px solid black; text-align:center;\"\n",
       "         width=\"40\" height=\"40\">2</td><td style=\"border:3px solid black; text-align:center;\"\n",
       "         width=\"40\" height=\"40\"></td></tr></table>"
      ],
      "text/plain": [
       "<IPython.core.display.HTML object>"
      ]
     },
     "metadata": {},
     "output_type": "display_data"
    },
    {
     "name": "stdout",
     "output_type": "stream",
     "text": [
      "15\n"
     ]
    },
    {
     "data": {
      "text/html": [
       "<h1>Score: 4</h1><table style=\"border: 5px solid black;\"><tr><td style=\"border:3px solid black; text-align:center;\"\n",
       "         width=\"40\" height=\"40\"></td><td style=\"border:3px solid black; text-align:center;\"\n",
       "         width=\"40\" height=\"40\"></td><td style=\"border:3px solid black; text-align:center;\"\n",
       "         width=\"40\" height=\"40\"></td><td style=\"border:3px solid black; text-align:center;\"\n",
       "         width=\"40\" height=\"40\"></td></tr><tr><td style=\"border:3px solid black; text-align:center;\"\n",
       "         width=\"40\" height=\"40\"></td><td style=\"border:3px solid black; text-align:center;\"\n",
       "         width=\"40\" height=\"40\"></td><td style=\"border:3px solid black; text-align:center;\"\n",
       "         width=\"40\" height=\"40\"></td><td style=\"border:3px solid black; text-align:center;\"\n",
       "         width=\"40\" height=\"40\">4</td></tr><tr><td style=\"border:3px solid black; text-align:center;\"\n",
       "         width=\"40\" height=\"40\"></td><td style=\"border:3px solid black; text-align:center;\"\n",
       "         width=\"40\" height=\"40\">2</td><td style=\"border:3px solid black; text-align:center;\"\n",
       "         width=\"40\" height=\"40\"></td><td style=\"border:3px solid black; text-align:center;\"\n",
       "         width=\"40\" height=\"40\"></td></tr><tr><td style=\"border:3px solid black; text-align:center;\"\n",
       "         width=\"40\" height=\"40\"></td><td style=\"border:3px solid black; text-align:center;\"\n",
       "         width=\"40\" height=\"40\"></td><td style=\"border:3px solid black; text-align:center;\"\n",
       "         width=\"40\" height=\"40\"></td><td style=\"border:3px solid black; text-align:center;\"\n",
       "         width=\"40\" height=\"40\"></td></tr></table>"
      ],
      "text/plain": [
       "<IPython.core.display.HTML object>"
      ]
     },
     "metadata": {},
     "output_type": "display_data"
    },
    {
     "name": "stdout",
     "output_type": "stream",
     "text": [
      "16\n"
     ]
    },
    {
     "data": {
      "text/html": [
       "<h1>Score: 4</h1><table style=\"border: 5px solid black;\"><tr><td style=\"border:3px solid black; text-align:center;\"\n",
       "         width=\"40\" height=\"40\"></td><td style=\"border:3px solid black; text-align:center;\"\n",
       "         width=\"40\" height=\"40\"></td><td style=\"border:3px solid black; text-align:center;\"\n",
       "         width=\"40\" height=\"40\"></td><td style=\"border:3px solid black; text-align:center;\"\n",
       "         width=\"40\" height=\"40\">4</td></tr><tr><td style=\"border:3px solid black; text-align:center;\"\n",
       "         width=\"40\" height=\"40\"></td><td style=\"border:3px solid black; text-align:center;\"\n",
       "         width=\"40\" height=\"40\"></td><td style=\"border:3px solid black; text-align:center;\"\n",
       "         width=\"40\" height=\"40\"></td><td style=\"border:3px solid black; text-align:center;\"\n",
       "         width=\"40\" height=\"40\"></td></tr><tr><td style=\"border:3px solid black; text-align:center;\"\n",
       "         width=\"40\" height=\"40\"></td><td style=\"border:3px solid black; text-align:center;\"\n",
       "         width=\"40\" height=\"40\">4</td><td style=\"border:3px solid black; text-align:center;\"\n",
       "         width=\"40\" height=\"40\"></td><td style=\"border:3px solid black; text-align:center;\"\n",
       "         width=\"40\" height=\"40\"></td></tr><tr><td style=\"border:3px solid black; text-align:center;\"\n",
       "         width=\"40\" height=\"40\"></td><td style=\"border:3px solid black; text-align:center;\"\n",
       "         width=\"40\" height=\"40\"></td><td style=\"border:3px solid black; text-align:center;\"\n",
       "         width=\"40\" height=\"40\"></td><td style=\"border:3px solid black; text-align:center;\"\n",
       "         width=\"40\" height=\"40\"></td></tr></table>"
      ],
      "text/plain": [
       "<IPython.core.display.HTML object>"
      ]
     },
     "metadata": {},
     "output_type": "display_data"
    },
    {
     "name": "stdout",
     "output_type": "stream",
     "text": [
      "17\n"
     ]
    },
    {
     "data": {
      "text/html": [
       "<h1>Score: 4</h1><table style=\"border: 5px solid black;\"><tr><td style=\"border:3px solid black; text-align:center;\"\n",
       "         width=\"40\" height=\"40\">4</td><td style=\"border:3px solid black; text-align:center;\"\n",
       "         width=\"40\" height=\"40\"></td><td style=\"border:3px solid black; text-align:center;\"\n",
       "         width=\"40\" height=\"40\"></td><td style=\"border:3px solid black; text-align:center;\"\n",
       "         width=\"40\" height=\"40\"></td></tr><tr><td style=\"border:3px solid black; text-align:center;\"\n",
       "         width=\"40\" height=\"40\">2</td><td style=\"border:3px solid black; text-align:center;\"\n",
       "         width=\"40\" height=\"40\"></td><td style=\"border:3px solid black; text-align:center;\"\n",
       "         width=\"40\" height=\"40\"></td><td style=\"border:3px solid black; text-align:center;\"\n",
       "         width=\"40\" height=\"40\"></td></tr><tr><td style=\"border:3px solid black; text-align:center;\"\n",
       "         width=\"40\" height=\"40\"></td><td style=\"border:3px solid black; text-align:center;\"\n",
       "         width=\"40\" height=\"40\"></td><td style=\"border:3px solid black; text-align:center;\"\n",
       "         width=\"40\" height=\"40\"></td><td style=\"border:3px solid black; text-align:center;\"\n",
       "         width=\"40\" height=\"40\"></td></tr><tr><td style=\"border:3px solid black; text-align:center;\"\n",
       "         width=\"40\" height=\"40\"></td><td style=\"border:3px solid black; text-align:center;\"\n",
       "         width=\"40\" height=\"40\"></td><td style=\"border:3px solid black; text-align:center;\"\n",
       "         width=\"40\" height=\"40\"></td><td style=\"border:3px solid black; text-align:center;\"\n",
       "         width=\"40\" height=\"40\"></td></tr></table>"
      ],
      "text/plain": [
       "<IPython.core.display.HTML object>"
      ]
     },
     "metadata": {},
     "output_type": "display_data"
    },
    {
     "name": "stdout",
     "output_type": "stream",
     "text": [
      "18\n"
     ]
    },
    {
     "data": {
      "text/html": [
       "<h1>Score: 4</h1><table style=\"border: 5px solid black;\"><tr><td style=\"border:3px solid black; text-align:center;\"\n",
       "         width=\"40\" height=\"40\"></td><td style=\"border:3px solid black; text-align:center;\"\n",
       "         width=\"40\" height=\"40\"></td><td style=\"border:3px solid black; text-align:center;\"\n",
       "         width=\"40\" height=\"40\"></td><td style=\"border:3px solid black; text-align:center;\"\n",
       "         width=\"40\" height=\"40\"></td></tr><tr><td style=\"border:3px solid black; text-align:center;\"\n",
       "         width=\"40\" height=\"40\">4</td><td style=\"border:3px solid black; text-align:center;\"\n",
       "         width=\"40\" height=\"40\">4</td><td style=\"border:3px solid black; text-align:center;\"\n",
       "         width=\"40\" height=\"40\"></td><td style=\"border:3px solid black; text-align:center;\"\n",
       "         width=\"40\" height=\"40\"></td></tr><tr><td style=\"border:3px solid black; text-align:center;\"\n",
       "         width=\"40\" height=\"40\"></td><td style=\"border:3px solid black; text-align:center;\"\n",
       "         width=\"40\" height=\"40\"></td><td style=\"border:3px solid black; text-align:center;\"\n",
       "         width=\"40\" height=\"40\"></td><td style=\"border:3px solid black; text-align:center;\"\n",
       "         width=\"40\" height=\"40\"></td></tr><tr><td style=\"border:3px solid black; text-align:center;\"\n",
       "         width=\"40\" height=\"40\"></td><td style=\"border:3px solid black; text-align:center;\"\n",
       "         width=\"40\" height=\"40\"></td><td style=\"border:3px solid black; text-align:center;\"\n",
       "         width=\"40\" height=\"40\"></td><td style=\"border:3px solid black; text-align:center;\"\n",
       "         width=\"40\" height=\"40\"></td></tr></table>"
      ],
      "text/plain": [
       "<IPython.core.display.HTML object>"
      ]
     },
     "metadata": {},
     "output_type": "display_data"
    },
    {
     "name": "stdout",
     "output_type": "stream",
     "text": [
      "19\n"
     ]
    },
    {
     "data": {
      "text/html": [
       "<h1>Score: 4</h1><table style=\"border: 5px solid black;\"><tr><td style=\"border:3px solid black; text-align:center;\"\n",
       "         width=\"40\" height=\"40\"></td><td style=\"border:3px solid black; text-align:center;\"\n",
       "         width=\"40\" height=\"40\"></td><td style=\"border:3px solid black; text-align:center;\"\n",
       "         width=\"40\" height=\"40\"></td><td style=\"border:3px solid black; text-align:center;\"\n",
       "         width=\"40\" height=\"40\"></td></tr><tr><td style=\"border:3px solid black; text-align:center;\"\n",
       "         width=\"40\" height=\"40\"></td><td style=\"border:3px solid black; text-align:center;\"\n",
       "         width=\"40\" height=\"40\"></td><td style=\"border:3px solid black; text-align:center;\"\n",
       "         width=\"40\" height=\"40\"></td><td style=\"border:3px solid black; text-align:center;\"\n",
       "         width=\"40\" height=\"40\"></td></tr><tr><td style=\"border:3px solid black; text-align:center;\"\n",
       "         width=\"40\" height=\"40\"></td><td style=\"border:3px solid black; text-align:center;\"\n",
       "         width=\"40\" height=\"40\"></td><td style=\"border:3px solid black; text-align:center;\"\n",
       "         width=\"40\" height=\"40\"></td><td style=\"border:3px solid black; text-align:center;\"\n",
       "         width=\"40\" height=\"40\"></td></tr><tr><td style=\"border:3px solid black; text-align:center;\"\n",
       "         width=\"40\" height=\"40\">2</td><td style=\"border:3px solid black; text-align:center;\"\n",
       "         width=\"40\" height=\"40\"></td><td style=\"border:3px solid black; text-align:center;\"\n",
       "         width=\"40\" height=\"40\"></td><td style=\"border:3px solid black; text-align:center;\"\n",
       "         width=\"40\" height=\"40\">4</td></tr></table>"
      ],
      "text/plain": [
       "<IPython.core.display.HTML object>"
      ]
     },
     "metadata": {},
     "output_type": "display_data"
    },
    {
     "name": "stdout",
     "output_type": "stream",
     "text": [
      "20\n"
     ]
    },
    {
     "data": {
      "text/html": [
       "<h1>Score: 4</h1><table style=\"border: 5px solid black;\"><tr><td style=\"border:3px solid black; text-align:center;\"\n",
       "         width=\"40\" height=\"40\"></td><td style=\"border:3px solid black; text-align:center;\"\n",
       "         width=\"40\" height=\"40\"></td><td style=\"border:3px solid black; text-align:center;\"\n",
       "         width=\"40\" height=\"40\"></td><td style=\"border:3px solid black; text-align:center;\"\n",
       "         width=\"40\" height=\"40\"></td></tr><tr><td style=\"border:3px solid black; text-align:center;\"\n",
       "         width=\"40\" height=\"40\"></td><td style=\"border:3px solid black; text-align:center;\"\n",
       "         width=\"40\" height=\"40\">4</td><td style=\"border:3px solid black; text-align:center;\"\n",
       "         width=\"40\" height=\"40\"></td><td style=\"border:3px solid black; text-align:center;\"\n",
       "         width=\"40\" height=\"40\"></td></tr><tr><td style=\"border:3px solid black; text-align:center;\"\n",
       "         width=\"40\" height=\"40\">4</td><td style=\"border:3px solid black; text-align:center;\"\n",
       "         width=\"40\" height=\"40\"></td><td style=\"border:3px solid black; text-align:center;\"\n",
       "         width=\"40\" height=\"40\"></td><td style=\"border:3px solid black; text-align:center;\"\n",
       "         width=\"40\" height=\"40\"></td></tr><tr><td style=\"border:3px solid black; text-align:center;\"\n",
       "         width=\"40\" height=\"40\"></td><td style=\"border:3px solid black; text-align:center;\"\n",
       "         width=\"40\" height=\"40\"></td><td style=\"border:3px solid black; text-align:center;\"\n",
       "         width=\"40\" height=\"40\"></td><td style=\"border:3px solid black; text-align:center;\"\n",
       "         width=\"40\" height=\"40\"></td></tr></table>"
      ],
      "text/plain": [
       "<IPython.core.display.HTML object>"
      ]
     },
     "metadata": {},
     "output_type": "display_data"
    },
    {
     "name": "stdout",
     "output_type": "stream",
     "text": [
      "21\n"
     ]
    },
    {
     "data": {
      "text/html": [
       "<h1>Score: 4</h1><table style=\"border: 5px solid black;\"><tr><td style=\"border:3px solid black; text-align:center;\"\n",
       "         width=\"40\" height=\"40\"></td><td style=\"border:3px solid black; text-align:center;\"\n",
       "         width=\"40\" height=\"40\"></td><td style=\"border:3px solid black; text-align:center;\"\n",
       "         width=\"40\" height=\"40\">4</td><td style=\"border:3px solid black; text-align:center;\"\n",
       "         width=\"40\" height=\"40\"></td></tr><tr><td style=\"border:3px solid black; text-align:center;\"\n",
       "         width=\"40\" height=\"40\"></td><td style=\"border:3px solid black; text-align:center;\"\n",
       "         width=\"40\" height=\"40\"></td><td style=\"border:3px solid black; text-align:center;\"\n",
       "         width=\"40\" height=\"40\">2</td><td style=\"border:3px solid black; text-align:center;\"\n",
       "         width=\"40\" height=\"40\"></td></tr><tr><td style=\"border:3px solid black; text-align:center;\"\n",
       "         width=\"40\" height=\"40\"></td><td style=\"border:3px solid black; text-align:center;\"\n",
       "         width=\"40\" height=\"40\"></td><td style=\"border:3px solid black; text-align:center;\"\n",
       "         width=\"40\" height=\"40\"></td><td style=\"border:3px solid black; text-align:center;\"\n",
       "         width=\"40\" height=\"40\"></td></tr><tr><td style=\"border:3px solid black; text-align:center;\"\n",
       "         width=\"40\" height=\"40\"></td><td style=\"border:3px solid black; text-align:center;\"\n",
       "         width=\"40\" height=\"40\"></td><td style=\"border:3px solid black; text-align:center;\"\n",
       "         width=\"40\" height=\"40\"></td><td style=\"border:3px solid black; text-align:center;\"\n",
       "         width=\"40\" height=\"40\"></td></tr></table>"
      ],
      "text/plain": [
       "<IPython.core.display.HTML object>"
      ]
     },
     "metadata": {},
     "output_type": "display_data"
    },
    {
     "name": "stdout",
     "output_type": "stream",
     "text": [
      "22\n"
     ]
    },
    {
     "data": {
      "text/html": [
       "<h1>Score: 4</h1><table style=\"border: 5px solid black;\"><tr><td style=\"border:3px solid black; text-align:center;\"\n",
       "         width=\"40\" height=\"40\"></td><td style=\"border:3px solid black; text-align:center;\"\n",
       "         width=\"40\" height=\"40\"></td><td style=\"border:3px solid black; text-align:center;\"\n",
       "         width=\"40\" height=\"40\"></td><td style=\"border:3px solid black; text-align:center;\"\n",
       "         width=\"40\" height=\"40\">4</td></tr><tr><td style=\"border:3px solid black; text-align:center;\"\n",
       "         width=\"40\" height=\"40\"></td><td style=\"border:3px solid black; text-align:center;\"\n",
       "         width=\"40\" height=\"40\"></td><td style=\"border:3px solid black; text-align:center;\"\n",
       "         width=\"40\" height=\"40\"></td><td style=\"border:3px solid black; text-align:center;\"\n",
       "         width=\"40\" height=\"40\">2</td></tr><tr><td style=\"border:3px solid black; text-align:center;\"\n",
       "         width=\"40\" height=\"40\"></td><td style=\"border:3px solid black; text-align:center;\"\n",
       "         width=\"40\" height=\"40\"></td><td style=\"border:3px solid black; text-align:center;\"\n",
       "         width=\"40\" height=\"40\"></td><td style=\"border:3px solid black; text-align:center;\"\n",
       "         width=\"40\" height=\"40\"></td></tr><tr><td style=\"border:3px solid black; text-align:center;\"\n",
       "         width=\"40\" height=\"40\"></td><td style=\"border:3px solid black; text-align:center;\"\n",
       "         width=\"40\" height=\"40\"></td><td style=\"border:3px solid black; text-align:center;\"\n",
       "         width=\"40\" height=\"40\"></td><td style=\"border:3px solid black; text-align:center;\"\n",
       "         width=\"40\" height=\"40\"></td></tr></table>"
      ],
      "text/plain": [
       "<IPython.core.display.HTML object>"
      ]
     },
     "metadata": {},
     "output_type": "display_data"
    },
    {
     "name": "stdout",
     "output_type": "stream",
     "text": [
      "23\n"
     ]
    },
    {
     "data": {
      "text/html": [
       "<h1>Score: 4</h1><table style=\"border: 5px solid black;\"><tr><td style=\"border:3px solid black; text-align:center;\"\n",
       "         width=\"40\" height=\"40\"></td><td style=\"border:3px solid black; text-align:center;\"\n",
       "         width=\"40\" height=\"40\"></td><td style=\"border:3px solid black; text-align:center;\"\n",
       "         width=\"40\" height=\"40\"></td><td style=\"border:3px solid black; text-align:center;\"\n",
       "         width=\"40\" height=\"40\"></td></tr><tr><td style=\"border:3px solid black; text-align:center;\"\n",
       "         width=\"40\" height=\"40\"></td><td style=\"border:3px solid black; text-align:center;\"\n",
       "         width=\"40\" height=\"40\"></td><td style=\"border:3px solid black; text-align:center;\"\n",
       "         width=\"40\" height=\"40\"></td><td style=\"border:3px solid black; text-align:center;\"\n",
       "         width=\"40\" height=\"40\"></td></tr><tr><td style=\"border:3px solid black; text-align:center;\"\n",
       "         width=\"40\" height=\"40\">4</td><td style=\"border:3px solid black; text-align:center;\"\n",
       "         width=\"40\" height=\"40\"></td><td style=\"border:3px solid black; text-align:center;\"\n",
       "         width=\"40\" height=\"40\"></td><td style=\"border:3px solid black; text-align:center;\"\n",
       "         width=\"40\" height=\"40\"></td></tr><tr><td style=\"border:3px solid black; text-align:center;\"\n",
       "         width=\"40\" height=\"40\"></td><td style=\"border:3px solid black; text-align:center;\"\n",
       "         width=\"40\" height=\"40\"></td><td style=\"border:3px solid black; text-align:center;\"\n",
       "         width=\"40\" height=\"40\">2</td><td style=\"border:3px solid black; text-align:center;\"\n",
       "         width=\"40\" height=\"40\"></td></tr></table>"
      ],
      "text/plain": [
       "<IPython.core.display.HTML object>"
      ]
     },
     "metadata": {},
     "output_type": "display_data"
    },
    {
     "name": "stdout",
     "output_type": "stream",
     "text": [
      "24\n"
     ]
    },
    {
     "data": {
      "text/html": [
       "<h1>Score: 4</h1><table style=\"border: 5px solid black;\"><tr><td style=\"border:3px solid black; text-align:center;\"\n",
       "         width=\"40\" height=\"40\"></td><td style=\"border:3px solid black; text-align:center;\"\n",
       "         width=\"40\" height=\"40\"></td><td style=\"border:3px solid black; text-align:center;\"\n",
       "         width=\"40\" height=\"40\"></td><td style=\"border:3px solid black; text-align:center;\"\n",
       "         width=\"40\" height=\"40\">4</td></tr><tr><td style=\"border:3px solid black; text-align:center;\"\n",
       "         width=\"40\" height=\"40\"></td><td style=\"border:3px solid black; text-align:center;\"\n",
       "         width=\"40\" height=\"40\"></td><td style=\"border:3px solid black; text-align:center;\"\n",
       "         width=\"40\" height=\"40\"></td><td style=\"border:3px solid black; text-align:center;\"\n",
       "         width=\"40\" height=\"40\"></td></tr><tr><td style=\"border:3px solid black; text-align:center;\"\n",
       "         width=\"40\" height=\"40\"></td><td style=\"border:3px solid black; text-align:center;\"\n",
       "         width=\"40\" height=\"40\">4</td><td style=\"border:3px solid black; text-align:center;\"\n",
       "         width=\"40\" height=\"40\"></td><td style=\"border:3px solid black; text-align:center;\"\n",
       "         width=\"40\" height=\"40\"></td></tr><tr><td style=\"border:3px solid black; text-align:center;\"\n",
       "         width=\"40\" height=\"40\"></td><td style=\"border:3px solid black; text-align:center;\"\n",
       "         width=\"40\" height=\"40\"></td><td style=\"border:3px solid black; text-align:center;\"\n",
       "         width=\"40\" height=\"40\"></td><td style=\"border:3px solid black; text-align:center;\"\n",
       "         width=\"40\" height=\"40\"></td></tr></table>"
      ],
      "text/plain": [
       "<IPython.core.display.HTML object>"
      ]
     },
     "metadata": {},
     "output_type": "display_data"
    },
    {
     "name": "stdout",
     "output_type": "stream",
     "text": [
      "25\n"
     ]
    },
    {
     "data": {
      "text/html": [
       "<h1>Score: 4</h1><table style=\"border: 5px solid black;\"><tr><td style=\"border:3px solid black; text-align:center;\"\n",
       "         width=\"40\" height=\"40\"></td><td style=\"border:3px solid black; text-align:center;\"\n",
       "         width=\"40\" height=\"40\"></td><td style=\"border:3px solid black; text-align:center;\"\n",
       "         width=\"40\" height=\"40\">2</td><td style=\"border:3px solid black; text-align:center;\"\n",
       "         width=\"40\" height=\"40\"></td></tr><tr><td style=\"border:3px solid black; text-align:center;\"\n",
       "         width=\"40\" height=\"40\"></td><td style=\"border:3px solid black; text-align:center;\"\n",
       "         width=\"40\" height=\"40\">4</td><td style=\"border:3px solid black; text-align:center;\"\n",
       "         width=\"40\" height=\"40\"></td><td style=\"border:3px solid black; text-align:center;\"\n",
       "         width=\"40\" height=\"40\"></td></tr><tr><td style=\"border:3px solid black; text-align:center;\"\n",
       "         width=\"40\" height=\"40\"></td><td style=\"border:3px solid black; text-align:center;\"\n",
       "         width=\"40\" height=\"40\"></td><td style=\"border:3px solid black; text-align:center;\"\n",
       "         width=\"40\" height=\"40\"></td><td style=\"border:3px solid black; text-align:center;\"\n",
       "         width=\"40\" height=\"40\"></td></tr><tr><td style=\"border:3px solid black; text-align:center;\"\n",
       "         width=\"40\" height=\"40\"></td><td style=\"border:3px solid black; text-align:center;\"\n",
       "         width=\"40\" height=\"40\"></td><td style=\"border:3px solid black; text-align:center;\"\n",
       "         width=\"40\" height=\"40\"></td><td style=\"border:3px solid black; text-align:center;\"\n",
       "         width=\"40\" height=\"40\"></td></tr></table>"
      ],
      "text/plain": [
       "<IPython.core.display.HTML object>"
      ]
     },
     "metadata": {},
     "output_type": "display_data"
    },
    {
     "name": "stdout",
     "output_type": "stream",
     "text": [
      "26\n"
     ]
    },
    {
     "data": {
      "text/html": [
       "<h1>Score: 2</h1><table style=\"border: 5px solid black;\"><tr><td style=\"border:3px solid black; text-align:center;\"\n",
       "         width=\"40\" height=\"40\"></td><td style=\"border:3px solid black; text-align:center;\"\n",
       "         width=\"40\" height=\"40\"></td><td style=\"border:3px solid black; text-align:center;\"\n",
       "         width=\"40\" height=\"40\"></td><td style=\"border:3px solid black; text-align:center;\"\n",
       "         width=\"40\" height=\"40\">2</td></tr><tr><td style=\"border:3px solid black; text-align:center;\"\n",
       "         width=\"40\" height=\"40\"></td><td style=\"border:3px solid black; text-align:center;\"\n",
       "         width=\"40\" height=\"40\"></td><td style=\"border:3px solid black; text-align:center;\"\n",
       "         width=\"40\" height=\"40\"></td><td style=\"border:3px solid black; text-align:center;\"\n",
       "         width=\"40\" height=\"40\"></td></tr><tr><td style=\"border:3px solid black; text-align:center;\"\n",
       "         width=\"40\" height=\"40\"></td><td style=\"border:3px solid black; text-align:center;\"\n",
       "         width=\"40\" height=\"40\"></td><td style=\"border:3px solid black; text-align:center;\"\n",
       "         width=\"40\" height=\"40\"></td><td style=\"border:3px solid black; text-align:center;\"\n",
       "         width=\"40\" height=\"40\">2</td></tr><tr><td style=\"border:3px solid black; text-align:center;\"\n",
       "         width=\"40\" height=\"40\"></td><td style=\"border:3px solid black; text-align:center;\"\n",
       "         width=\"40\" height=\"40\"></td><td style=\"border:3px solid black; text-align:center;\"\n",
       "         width=\"40\" height=\"40\"></td><td style=\"border:3px solid black; text-align:center;\"\n",
       "         width=\"40\" height=\"40\"></td></tr></table>"
      ],
      "text/plain": [
       "<IPython.core.display.HTML object>"
      ]
     },
     "metadata": {},
     "output_type": "display_data"
    },
    {
     "name": "stdout",
     "output_type": "stream",
     "text": [
      "27\n"
     ]
    },
    {
     "data": {
      "text/html": [
       "<h1>Score: 4</h1><table style=\"border: 5px solid black;\"><tr><td style=\"border:3px solid black; text-align:center;\"\n",
       "         width=\"40\" height=\"40\"></td><td style=\"border:3px solid black; text-align:center;\"\n",
       "         width=\"40\" height=\"40\"></td><td style=\"border:3px solid black; text-align:center;\"\n",
       "         width=\"40\" height=\"40\"></td><td style=\"border:3px solid black; text-align:center;\"\n",
       "         width=\"40\" height=\"40\"></td></tr><tr><td style=\"border:3px solid black; text-align:center;\"\n",
       "         width=\"40\" height=\"40\"></td><td style=\"border:3px solid black; text-align:center;\"\n",
       "         width=\"40\" height=\"40\"></td><td style=\"border:3px solid black; text-align:center;\"\n",
       "         width=\"40\" height=\"40\"></td><td style=\"border:3px solid black; text-align:center;\"\n",
       "         width=\"40\" height=\"40\"></td></tr><tr><td style=\"border:3px solid black; text-align:center;\"\n",
       "         width=\"40\" height=\"40\"></td><td style=\"border:3px solid black; text-align:center;\"\n",
       "         width=\"40\" height=\"40\">4</td><td style=\"border:3px solid black; text-align:center;\"\n",
       "         width=\"40\" height=\"40\"></td><td style=\"border:3px solid black; text-align:center;\"\n",
       "         width=\"40\" height=\"40\"></td></tr><tr><td style=\"border:3px solid black; text-align:center;\"\n",
       "         width=\"40\" height=\"40\"></td><td style=\"border:3px solid black; text-align:center;\"\n",
       "         width=\"40\" height=\"40\"></td><td style=\"border:3px solid black; text-align:center;\"\n",
       "         width=\"40\" height=\"40\"></td><td style=\"border:3px solid black; text-align:center;\"\n",
       "         width=\"40\" height=\"40\">2</td></tr></table>"
      ],
      "text/plain": [
       "<IPython.core.display.HTML object>"
      ]
     },
     "metadata": {},
     "output_type": "display_data"
    },
    {
     "name": "stdout",
     "output_type": "stream",
     "text": [
      "28\n"
     ]
    },
    {
     "data": {
      "text/html": [
       "<h1>Score: 4</h1><table style=\"border: 5px solid black;\"><tr><td style=\"border:3px solid black; text-align:center;\"\n",
       "         width=\"40\" height=\"40\"></td><td style=\"border:3px solid black; text-align:center;\"\n",
       "         width=\"40\" height=\"40\">2</td><td style=\"border:3px solid black; text-align:center;\"\n",
       "         width=\"40\" height=\"40\"></td><td style=\"border:3px solid black; text-align:center;\"\n",
       "         width=\"40\" height=\"40\">4</td></tr><tr><td style=\"border:3px solid black; text-align:center;\"\n",
       "         width=\"40\" height=\"40\"></td><td style=\"border:3px solid black; text-align:center;\"\n",
       "         width=\"40\" height=\"40\"></td><td style=\"border:3px solid black; text-align:center;\"\n",
       "         width=\"40\" height=\"40\"></td><td style=\"border:3px solid black; text-align:center;\"\n",
       "         width=\"40\" height=\"40\"></td></tr><tr><td style=\"border:3px solid black; text-align:center;\"\n",
       "         width=\"40\" height=\"40\"></td><td style=\"border:3px solid black; text-align:center;\"\n",
       "         width=\"40\" height=\"40\"></td><td style=\"border:3px solid black; text-align:center;\"\n",
       "         width=\"40\" height=\"40\"></td><td style=\"border:3px solid black; text-align:center;\"\n",
       "         width=\"40\" height=\"40\"></td></tr><tr><td style=\"border:3px solid black; text-align:center;\"\n",
       "         width=\"40\" height=\"40\"></td><td style=\"border:3px solid black; text-align:center;\"\n",
       "         width=\"40\" height=\"40\"></td><td style=\"border:3px solid black; text-align:center;\"\n",
       "         width=\"40\" height=\"40\"></td><td style=\"border:3px solid black; text-align:center;\"\n",
       "         width=\"40\" height=\"40\"></td></tr></table>"
      ],
      "text/plain": [
       "<IPython.core.display.HTML object>"
      ]
     },
     "metadata": {},
     "output_type": "display_data"
    },
    {
     "name": "stdout",
     "output_type": "stream",
     "text": [
      "29\n"
     ]
    },
    {
     "data": {
      "text/html": [
       "<h1>Score: 2</h1><table style=\"border: 5px solid black;\"><tr><td style=\"border:3px solid black; text-align:center;\"\n",
       "         width=\"40\" height=\"40\"></td><td style=\"border:3px solid black; text-align:center;\"\n",
       "         width=\"40\" height=\"40\"></td><td style=\"border:3px solid black; text-align:center;\"\n",
       "         width=\"40\" height=\"40\"></td><td style=\"border:3px solid black; text-align:center;\"\n",
       "         width=\"40\" height=\"40\">2</td></tr><tr><td style=\"border:3px solid black; text-align:center;\"\n",
       "         width=\"40\" height=\"40\"></td><td style=\"border:3px solid black; text-align:center;\"\n",
       "         width=\"40\" height=\"40\"></td><td style=\"border:3px solid black; text-align:center;\"\n",
       "         width=\"40\" height=\"40\"></td><td style=\"border:3px solid black; text-align:center;\"\n",
       "         width=\"40\" height=\"40\"></td></tr><tr><td style=\"border:3px solid black; text-align:center;\"\n",
       "         width=\"40\" height=\"40\"></td><td style=\"border:3px solid black; text-align:center;\"\n",
       "         width=\"40\" height=\"40\">2</td><td style=\"border:3px solid black; text-align:center;\"\n",
       "         width=\"40\" height=\"40\"></td><td style=\"border:3px solid black; text-align:center;\"\n",
       "         width=\"40\" height=\"40\"></td></tr><tr><td style=\"border:3px solid black; text-align:center;\"\n",
       "         width=\"40\" height=\"40\"></td><td style=\"border:3px solid black; text-align:center;\"\n",
       "         width=\"40\" height=\"40\"></td><td style=\"border:3px solid black; text-align:center;\"\n",
       "         width=\"40\" height=\"40\"></td><td style=\"border:3px solid black; text-align:center;\"\n",
       "         width=\"40\" height=\"40\"></td></tr></table>"
      ],
      "text/plain": [
       "<IPython.core.display.HTML object>"
      ]
     },
     "metadata": {},
     "output_type": "display_data"
    },
    {
     "name": "stdout",
     "output_type": "stream",
     "text": [
      "30\n"
     ]
    },
    {
     "data": {
      "text/html": [
       "<h1>Score: 4</h1><table style=\"border: 5px solid black;\"><tr><td style=\"border:3px solid black; text-align:center;\"\n",
       "         width=\"40\" height=\"40\"></td><td style=\"border:3px solid black; text-align:center;\"\n",
       "         width=\"40\" height=\"40\"></td><td style=\"border:3px solid black; text-align:center;\"\n",
       "         width=\"40\" height=\"40\"></td><td style=\"border:3px solid black; text-align:center;\"\n",
       "         width=\"40\" height=\"40\">2</td></tr><tr><td style=\"border:3px solid black; text-align:center;\"\n",
       "         width=\"40\" height=\"40\"></td><td style=\"border:3px solid black; text-align:center;\"\n",
       "         width=\"40\" height=\"40\"></td><td style=\"border:3px solid black; text-align:center;\"\n",
       "         width=\"40\" height=\"40\"></td><td style=\"border:3px solid black; text-align:center;\"\n",
       "         width=\"40\" height=\"40\"></td></tr><tr><td style=\"border:3px solid black; text-align:center;\"\n",
       "         width=\"40\" height=\"40\"></td><td style=\"border:3px solid black; text-align:center;\"\n",
       "         width=\"40\" height=\"40\"></td><td style=\"border:3px solid black; text-align:center;\"\n",
       "         width=\"40\" height=\"40\"></td><td style=\"border:3px solid black; text-align:center;\"\n",
       "         width=\"40\" height=\"40\"></td></tr><tr><td style=\"border:3px solid black; text-align:center;\"\n",
       "         width=\"40\" height=\"40\"></td><td style=\"border:3px solid black; text-align:center;\"\n",
       "         width=\"40\" height=\"40\">4</td><td style=\"border:3px solid black; text-align:center;\"\n",
       "         width=\"40\" height=\"40\"></td><td style=\"border:3px solid black; text-align:center;\"\n",
       "         width=\"40\" height=\"40\"></td></tr></table>"
      ],
      "text/plain": [
       "<IPython.core.display.HTML object>"
      ]
     },
     "metadata": {},
     "output_type": "display_data"
    },
    {
     "name": "stdout",
     "output_type": "stream",
     "text": [
      "31\n"
     ]
    },
    {
     "data": {
      "text/html": [
       "<h1>Score: 4</h1><table style=\"border: 5px solid black;\"><tr><td style=\"border:3px solid black; text-align:center;\"\n",
       "         width=\"40\" height=\"40\"></td><td style=\"border:3px solid black; text-align:center;\"\n",
       "         width=\"40\" height=\"40\"></td><td style=\"border:3px solid black; text-align:center;\"\n",
       "         width=\"40\" height=\"40\"></td><td style=\"border:3px solid black; text-align:center;\"\n",
       "         width=\"40\" height=\"40\"></td></tr><tr><td style=\"border:3px solid black; text-align:center;\"\n",
       "         width=\"40\" height=\"40\"></td><td style=\"border:3px solid black; text-align:center;\"\n",
       "         width=\"40\" height=\"40\"></td><td style=\"border:3px solid black; text-align:center;\"\n",
       "         width=\"40\" height=\"40\"></td><td style=\"border:3px solid black; text-align:center;\"\n",
       "         width=\"40\" height=\"40\"></td></tr><tr><td style=\"border:3px solid black; text-align:center;\"\n",
       "         width=\"40\" height=\"40\"></td><td style=\"border:3px solid black; text-align:center;\"\n",
       "         width=\"40\" height=\"40\">4</td><td style=\"border:3px solid black; text-align:center;\"\n",
       "         width=\"40\" height=\"40\"></td><td style=\"border:3px solid black; text-align:center;\"\n",
       "         width=\"40\" height=\"40\"></td></tr><tr><td style=\"border:3px solid black; text-align:center;\"\n",
       "         width=\"40\" height=\"40\">4</td><td style=\"border:3px solid black; text-align:center;\"\n",
       "         width=\"40\" height=\"40\"></td><td style=\"border:3px solid black; text-align:center;\"\n",
       "         width=\"40\" height=\"40\"></td><td style=\"border:3px solid black; text-align:center;\"\n",
       "         width=\"40\" height=\"40\"></td></tr></table>"
      ],
      "text/plain": [
       "<IPython.core.display.HTML object>"
      ]
     },
     "metadata": {},
     "output_type": "display_data"
    },
    {
     "name": "stdout",
     "output_type": "stream",
     "text": [
      "32\n"
     ]
    },
    {
     "data": {
      "text/html": [
       "<h1>Score: 4</h1><table style=\"border: 5px solid black;\"><tr><td style=\"border:3px solid black; text-align:center;\"\n",
       "         width=\"40\" height=\"40\"></td><td style=\"border:3px solid black; text-align:center;\"\n",
       "         width=\"40\" height=\"40\"></td><td style=\"border:3px solid black; text-align:center;\"\n",
       "         width=\"40\" height=\"40\"></td><td style=\"border:3px solid black; text-align:center;\"\n",
       "         width=\"40\" height=\"40\"></td></tr><tr><td style=\"border:3px solid black; text-align:center;\"\n",
       "         width=\"40\" height=\"40\"></td><td style=\"border:3px solid black; text-align:center;\"\n",
       "         width=\"40\" height=\"40\"></td><td style=\"border:3px solid black; text-align:center;\"\n",
       "         width=\"40\" height=\"40\"></td><td style=\"border:3px solid black; text-align:center;\"\n",
       "         width=\"40\" height=\"40\">4</td></tr><tr><td style=\"border:3px solid black; text-align:center;\"\n",
       "         width=\"40\" height=\"40\"></td><td style=\"border:3px solid black; text-align:center;\"\n",
       "         width=\"40\" height=\"40\"></td><td style=\"border:3px solid black; text-align:center;\"\n",
       "         width=\"40\" height=\"40\"></td><td style=\"border:3px solid black; text-align:center;\"\n",
       "         width=\"40\" height=\"40\">2</td></tr><tr><td style=\"border:3px solid black; text-align:center;\"\n",
       "         width=\"40\" height=\"40\"></td><td style=\"border:3px solid black; text-align:center;\"\n",
       "         width=\"40\" height=\"40\"></td><td style=\"border:3px solid black; text-align:center;\"\n",
       "         width=\"40\" height=\"40\"></td><td style=\"border:3px solid black; text-align:center;\"\n",
       "         width=\"40\" height=\"40\"></td></tr></table>"
      ],
      "text/plain": [
       "<IPython.core.display.HTML object>"
      ]
     },
     "metadata": {},
     "output_type": "display_data"
    },
    {
     "name": "stdout",
     "output_type": "stream",
     "text": [
      "33\n"
     ]
    },
    {
     "data": {
      "text/html": [
       "<h1>Score: 2</h1><table style=\"border: 5px solid black;\"><tr><td style=\"border:3px solid black; text-align:center;\"\n",
       "         width=\"40\" height=\"40\"></td><td style=\"border:3px solid black; text-align:center;\"\n",
       "         width=\"40\" height=\"40\"></td><td style=\"border:3px solid black; text-align:center;\"\n",
       "         width=\"40\" height=\"40\"></td><td style=\"border:3px solid black; text-align:center;\"\n",
       "         width=\"40\" height=\"40\"></td></tr><tr><td style=\"border:3px solid black; text-align:center;\"\n",
       "         width=\"40\" height=\"40\"></td><td style=\"border:3px solid black; text-align:center;\"\n",
       "         width=\"40\" height=\"40\"></td><td style=\"border:3px solid black; text-align:center;\"\n",
       "         width=\"40\" height=\"40\"></td><td style=\"border:3px solid black; text-align:center;\"\n",
       "         width=\"40\" height=\"40\"></td></tr><tr><td style=\"border:3px solid black; text-align:center;\"\n",
       "         width=\"40\" height=\"40\"></td><td style=\"border:3px solid black; text-align:center;\"\n",
       "         width=\"40\" height=\"40\"></td><td style=\"border:3px solid black; text-align:center;\"\n",
       "         width=\"40\" height=\"40\">2</td><td style=\"border:3px solid black; text-align:center;\"\n",
       "         width=\"40\" height=\"40\"></td></tr><tr><td style=\"border:3px solid black; text-align:center;\"\n",
       "         width=\"40\" height=\"40\">2</td><td style=\"border:3px solid black; text-align:center;\"\n",
       "         width=\"40\" height=\"40\"></td><td style=\"border:3px solid black; text-align:center;\"\n",
       "         width=\"40\" height=\"40\"></td><td style=\"border:3px solid black; text-align:center;\"\n",
       "         width=\"40\" height=\"40\"></td></tr></table>"
      ],
      "text/plain": [
       "<IPython.core.display.HTML object>"
      ]
     },
     "metadata": {},
     "output_type": "display_data"
    },
    {
     "name": "stdout",
     "output_type": "stream",
     "text": [
      "34\n"
     ]
    },
    {
     "data": {
      "text/html": [
       "<h1>Score: 4</h1><table style=\"border: 5px solid black;\"><tr><td style=\"border:3px solid black; text-align:center;\"\n",
       "         width=\"40\" height=\"40\"></td><td style=\"border:3px solid black; text-align:center;\"\n",
       "         width=\"40\" height=\"40\"></td><td style=\"border:3px solid black; text-align:center;\"\n",
       "         width=\"40\" height=\"40\"></td><td style=\"border:3px solid black; text-align:center;\"\n",
       "         width=\"40\" height=\"40\"></td></tr><tr><td style=\"border:3px solid black; text-align:center;\"\n",
       "         width=\"40\" height=\"40\"></td><td style=\"border:3px solid black; text-align:center;\"\n",
       "         width=\"40\" height=\"40\"></td><td style=\"border:3px solid black; text-align:center;\"\n",
       "         width=\"40\" height=\"40\"></td><td style=\"border:3px solid black; text-align:center;\"\n",
       "         width=\"40\" height=\"40\">2</td></tr><tr><td style=\"border:3px solid black; text-align:center;\"\n",
       "         width=\"40\" height=\"40\"></td><td style=\"border:3px solid black; text-align:center;\"\n",
       "         width=\"40\" height=\"40\"></td><td style=\"border:3px solid black; text-align:center;\"\n",
       "         width=\"40\" height=\"40\"></td><td style=\"border:3px solid black; text-align:center;\"\n",
       "         width=\"40\" height=\"40\"></td></tr><tr><td style=\"border:3px solid black; text-align:center;\"\n",
       "         width=\"40\" height=\"40\"></td><td style=\"border:3px solid black; text-align:center;\"\n",
       "         width=\"40\" height=\"40\">4</td><td style=\"border:3px solid black; text-align:center;\"\n",
       "         width=\"40\" height=\"40\"></td><td style=\"border:3px solid black; text-align:center;\"\n",
       "         width=\"40\" height=\"40\"></td></tr></table>"
      ],
      "text/plain": [
       "<IPython.core.display.HTML object>"
      ]
     },
     "metadata": {},
     "output_type": "display_data"
    },
    {
     "name": "stdout",
     "output_type": "stream",
     "text": [
      "35\n"
     ]
    },
    {
     "data": {
      "text/html": [
       "<h1>Score: 4</h1><table style=\"border: 5px solid black;\"><tr><td style=\"border:3px solid black; text-align:center;\"\n",
       "         width=\"40\" height=\"40\"></td><td style=\"border:3px solid black; text-align:center;\"\n",
       "         width=\"40\" height=\"40\"></td><td style=\"border:3px solid black; text-align:center;\"\n",
       "         width=\"40\" height=\"40\"></td><td style=\"border:3px solid black; text-align:center;\"\n",
       "         width=\"40\" height=\"40\"></td></tr><tr><td style=\"border:3px solid black; text-align:center;\"\n",
       "         width=\"40\" height=\"40\">4</td><td style=\"border:3px solid black; text-align:center;\"\n",
       "         width=\"40\" height=\"40\"></td><td style=\"border:3px solid black; text-align:center;\"\n",
       "         width=\"40\" height=\"40\"></td><td style=\"border:3px solid black; text-align:center;\"\n",
       "         width=\"40\" height=\"40\"></td></tr><tr><td style=\"border:3px solid black; text-align:center;\"\n",
       "         width=\"40\" height=\"40\"></td><td style=\"border:3px solid black; text-align:center;\"\n",
       "         width=\"40\" height=\"40\"></td><td style=\"border:3px solid black; text-align:center;\"\n",
       "         width=\"40\" height=\"40\">4</td><td style=\"border:3px solid black; text-align:center;\"\n",
       "         width=\"40\" height=\"40\"></td></tr><tr><td style=\"border:3px solid black; text-align:center;\"\n",
       "         width=\"40\" height=\"40\"></td><td style=\"border:3px solid black; text-align:center;\"\n",
       "         width=\"40\" height=\"40\"></td><td style=\"border:3px solid black; text-align:center;\"\n",
       "         width=\"40\" height=\"40\"></td><td style=\"border:3px solid black; text-align:center;\"\n",
       "         width=\"40\" height=\"40\"></td></tr></table>"
      ],
      "text/plain": [
       "<IPython.core.display.HTML object>"
      ]
     },
     "metadata": {},
     "output_type": "display_data"
    },
    {
     "name": "stdout",
     "output_type": "stream",
     "text": [
      "36\n"
     ]
    },
    {
     "data": {
      "text/html": [
       "<h1>Score: 4</h1><table style=\"border: 5px solid black;\"><tr><td style=\"border:3px solid black; text-align:center;\"\n",
       "         width=\"40\" height=\"40\"></td><td style=\"border:3px solid black; text-align:center;\"\n",
       "         width=\"40\" height=\"40\">4</td><td style=\"border:3px solid black; text-align:center;\"\n",
       "         width=\"40\" height=\"40\"></td><td style=\"border:3px solid black; text-align:center;\"\n",
       "         width=\"40\" height=\"40\">2</td></tr><tr><td style=\"border:3px solid black; text-align:center;\"\n",
       "         width=\"40\" height=\"40\"></td><td style=\"border:3px solid black; text-align:center;\"\n",
       "         width=\"40\" height=\"40\"></td><td style=\"border:3px solid black; text-align:center;\"\n",
       "         width=\"40\" height=\"40\"></td><td style=\"border:3px solid black; text-align:center;\"\n",
       "         width=\"40\" height=\"40\"></td></tr><tr><td style=\"border:3px solid black; text-align:center;\"\n",
       "         width=\"40\" height=\"40\"></td><td style=\"border:3px solid black; text-align:center;\"\n",
       "         width=\"40\" height=\"40\"></td><td style=\"border:3px solid black; text-align:center;\"\n",
       "         width=\"40\" height=\"40\"></td><td style=\"border:3px solid black; text-align:center;\"\n",
       "         width=\"40\" height=\"40\"></td></tr><tr><td style=\"border:3px solid black; text-align:center;\"\n",
       "         width=\"40\" height=\"40\"></td><td style=\"border:3px solid black; text-align:center;\"\n",
       "         width=\"40\" height=\"40\"></td><td style=\"border:3px solid black; text-align:center;\"\n",
       "         width=\"40\" height=\"40\"></td><td style=\"border:3px solid black; text-align:center;\"\n",
       "         width=\"40\" height=\"40\"></td></tr></table>"
      ],
      "text/plain": [
       "<IPython.core.display.HTML object>"
      ]
     },
     "metadata": {},
     "output_type": "display_data"
    },
    {
     "name": "stdout",
     "output_type": "stream",
     "text": [
      "37\n"
     ]
    },
    {
     "data": {
      "text/html": [
       "<h1>Score: 4</h1><table style=\"border: 5px solid black;\"><tr><td style=\"border:3px solid black; text-align:center;\"\n",
       "         width=\"40\" height=\"40\"></td><td style=\"border:3px solid black; text-align:center;\"\n",
       "         width=\"40\" height=\"40\"></td><td style=\"border:3px solid black; text-align:center;\"\n",
       "         width=\"40\" height=\"40\"></td><td style=\"border:3px solid black; text-align:center;\"\n",
       "         width=\"40\" height=\"40\"></td></tr><tr><td style=\"border:3px solid black; text-align:center;\"\n",
       "         width=\"40\" height=\"40\"></td><td style=\"border:3px solid black; text-align:center;\"\n",
       "         width=\"40\" height=\"40\"></td><td style=\"border:3px solid black; text-align:center;\"\n",
       "         width=\"40\" height=\"40\"></td><td style=\"border:3px solid black; text-align:center;\"\n",
       "         width=\"40\" height=\"40\"></td></tr><tr><td style=\"border:3px solid black; text-align:center;\"\n",
       "         width=\"40\" height=\"40\"></td><td style=\"border:3px solid black; text-align:center;\"\n",
       "         width=\"40\" height=\"40\"></td><td style=\"border:3px solid black; text-align:center;\"\n",
       "         width=\"40\" height=\"40\"></td><td style=\"border:3px solid black; text-align:center;\"\n",
       "         width=\"40\" height=\"40\">2</td></tr><tr><td style=\"border:3px solid black; text-align:center;\"\n",
       "         width=\"40\" height=\"40\"></td><td style=\"border:3px solid black; text-align:center;\"\n",
       "         width=\"40\" height=\"40\">4</td><td style=\"border:3px solid black; text-align:center;\"\n",
       "         width=\"40\" height=\"40\"></td><td style=\"border:3px solid black; text-align:center;\"\n",
       "         width=\"40\" height=\"40\"></td></tr></table>"
      ],
      "text/plain": [
       "<IPython.core.display.HTML object>"
      ]
     },
     "metadata": {},
     "output_type": "display_data"
    },
    {
     "name": "stdout",
     "output_type": "stream",
     "text": [
      "38\n"
     ]
    },
    {
     "data": {
      "text/html": [
       "<h1>Score: 4</h1><table style=\"border: 5px solid black;\"><tr><td style=\"border:3px solid black; text-align:center;\"\n",
       "         width=\"40\" height=\"40\"></td><td style=\"border:3px solid black; text-align:center;\"\n",
       "         width=\"40\" height=\"40\"></td><td style=\"border:3px solid black; text-align:center;\"\n",
       "         width=\"40\" height=\"40\"></td><td style=\"border:3px solid black; text-align:center;\"\n",
       "         width=\"40\" height=\"40\"></td></tr><tr><td style=\"border:3px solid black; text-align:center;\"\n",
       "         width=\"40\" height=\"40\"></td><td style=\"border:3px solid black; text-align:center;\"\n",
       "         width=\"40\" height=\"40\"></td><td style=\"border:3px solid black; text-align:center;\"\n",
       "         width=\"40\" height=\"40\"></td><td style=\"border:3px solid black; text-align:center;\"\n",
       "         width=\"40\" height=\"40\">2</td></tr><tr><td style=\"border:3px solid black; text-align:center;\"\n",
       "         width=\"40\" height=\"40\"></td><td style=\"border:3px solid black; text-align:center;\"\n",
       "         width=\"40\" height=\"40\">4</td><td style=\"border:3px solid black; text-align:center;\"\n",
       "         width=\"40\" height=\"40\"></td><td style=\"border:3px solid black; text-align:center;\"\n",
       "         width=\"40\" height=\"40\"></td></tr><tr><td style=\"border:3px solid black; text-align:center;\"\n",
       "         width=\"40\" height=\"40\"></td><td style=\"border:3px solid black; text-align:center;\"\n",
       "         width=\"40\" height=\"40\"></td><td style=\"border:3px solid black; text-align:center;\"\n",
       "         width=\"40\" height=\"40\"></td><td style=\"border:3px solid black; text-align:center;\"\n",
       "         width=\"40\" height=\"40\"></td></tr></table>"
      ],
      "text/plain": [
       "<IPython.core.display.HTML object>"
      ]
     },
     "metadata": {},
     "output_type": "display_data"
    },
    {
     "name": "stdout",
     "output_type": "stream",
     "text": [
      "39\n"
     ]
    },
    {
     "data": {
      "text/html": [
       "<h1>Score: 4</h1><table style=\"border: 5px solid black;\"><tr><td style=\"border:3px solid black; text-align:center;\"\n",
       "         width=\"40\" height=\"40\"></td><td style=\"border:3px solid black; text-align:center;\"\n",
       "         width=\"40\" height=\"40\"></td><td style=\"border:3px solid black; text-align:center;\"\n",
       "         width=\"40\" height=\"40\"></td><td style=\"border:3px solid black; text-align:center;\"\n",
       "         width=\"40\" height=\"40\"></td></tr><tr><td style=\"border:3px solid black; text-align:center;\"\n",
       "         width=\"40\" height=\"40\">4</td><td style=\"border:3px solid black; text-align:center;\"\n",
       "         width=\"40\" height=\"40\"></td><td style=\"border:3px solid black; text-align:center;\"\n",
       "         width=\"40\" height=\"40\"></td><td style=\"border:3px solid black; text-align:center;\"\n",
       "         width=\"40\" height=\"40\"></td></tr><tr><td style=\"border:3px solid black; text-align:center;\"\n",
       "         width=\"40\" height=\"40\"></td><td style=\"border:3px solid black; text-align:center;\"\n",
       "         width=\"40\" height=\"40\"></td><td style=\"border:3px solid black; text-align:center;\"\n",
       "         width=\"40\" height=\"40\">2</td><td style=\"border:3px solid black; text-align:center;\"\n",
       "         width=\"40\" height=\"40\"></td></tr><tr><td style=\"border:3px solid black; text-align:center;\"\n",
       "         width=\"40\" height=\"40\"></td><td style=\"border:3px solid black; text-align:center;\"\n",
       "         width=\"40\" height=\"40\"></td><td style=\"border:3px solid black; text-align:center;\"\n",
       "         width=\"40\" height=\"40\"></td><td style=\"border:3px solid black; text-align:center;\"\n",
       "         width=\"40\" height=\"40\"></td></tr></table>"
      ],
      "text/plain": [
       "<IPython.core.display.HTML object>"
      ]
     },
     "metadata": {},
     "output_type": "display_data"
    },
    {
     "name": "stdout",
     "output_type": "stream",
     "text": [
      "40\n"
     ]
    },
    {
     "data": {
      "text/html": [
       "<h1>Score: 4</h1><table style=\"border: 5px solid black;\"><tr><td style=\"border:3px solid black; text-align:center;\"\n",
       "         width=\"40\" height=\"40\"></td><td style=\"border:3px solid black; text-align:center;\"\n",
       "         width=\"40\" height=\"40\"></td><td style=\"border:3px solid black; text-align:center;\"\n",
       "         width=\"40\" height=\"40\"></td><td style=\"border:3px solid black; text-align:center;\"\n",
       "         width=\"40\" height=\"40\">4</td></tr><tr><td style=\"border:3px solid black; text-align:center;\"\n",
       "         width=\"40\" height=\"40\"></td><td style=\"border:3px solid black; text-align:center;\"\n",
       "         width=\"40\" height=\"40\"></td><td style=\"border:3px solid black; text-align:center;\"\n",
       "         width=\"40\" height=\"40\"></td><td style=\"border:3px solid black; text-align:center;\"\n",
       "         width=\"40\" height=\"40\"></td></tr><tr><td style=\"border:3px solid black; text-align:center;\"\n",
       "         width=\"40\" height=\"40\"></td><td style=\"border:3px solid black; text-align:center;\"\n",
       "         width=\"40\" height=\"40\"></td><td style=\"border:3px solid black; text-align:center;\"\n",
       "         width=\"40\" height=\"40\"></td><td style=\"border:3px solid black; text-align:center;\"\n",
       "         width=\"40\" height=\"40\"></td></tr><tr><td style=\"border:3px solid black; text-align:center;\"\n",
       "         width=\"40\" height=\"40\"></td><td style=\"border:3px solid black; text-align:center;\"\n",
       "         width=\"40\" height=\"40\">4</td><td style=\"border:3px solid black; text-align:center;\"\n",
       "         width=\"40\" height=\"40\"></td><td style=\"border:3px solid black; text-align:center;\"\n",
       "         width=\"40\" height=\"40\"></td></tr></table>"
      ],
      "text/plain": [
       "<IPython.core.display.HTML object>"
      ]
     },
     "metadata": {},
     "output_type": "display_data"
    },
    {
     "name": "stdout",
     "output_type": "stream",
     "text": [
      "41\n"
     ]
    },
    {
     "data": {
      "text/html": [
       "<h1>Score: 2</h1><table style=\"border: 5px solid black;\"><tr><td style=\"border:3px solid black; text-align:center;\"\n",
       "         width=\"40\" height=\"40\">2</td><td style=\"border:3px solid black; text-align:center;\"\n",
       "         width=\"40\" height=\"40\"></td><td style=\"border:3px solid black; text-align:center;\"\n",
       "         width=\"40\" height=\"40\"></td><td style=\"border:3px solid black; text-align:center;\"\n",
       "         width=\"40\" height=\"40\"></td></tr><tr><td style=\"border:3px solid black; text-align:center;\"\n",
       "         width=\"40\" height=\"40\"></td><td style=\"border:3px solid black; text-align:center;\"\n",
       "         width=\"40\" height=\"40\"></td><td style=\"border:3px solid black; text-align:center;\"\n",
       "         width=\"40\" height=\"40\"></td><td style=\"border:3px solid black; text-align:center;\"\n",
       "         width=\"40\" height=\"40\"></td></tr><tr><td style=\"border:3px solid black; text-align:center;\"\n",
       "         width=\"40\" height=\"40\"></td><td style=\"border:3px solid black; text-align:center;\"\n",
       "         width=\"40\" height=\"40\"></td><td style=\"border:3px solid black; text-align:center;\"\n",
       "         width=\"40\" height=\"40\"></td><td style=\"border:3px solid black; text-align:center;\"\n",
       "         width=\"40\" height=\"40\">2</td></tr><tr><td style=\"border:3px solid black; text-align:center;\"\n",
       "         width=\"40\" height=\"40\"></td><td style=\"border:3px solid black; text-align:center;\"\n",
       "         width=\"40\" height=\"40\"></td><td style=\"border:3px solid black; text-align:center;\"\n",
       "         width=\"40\" height=\"40\"></td><td style=\"border:3px solid black; text-align:center;\"\n",
       "         width=\"40\" height=\"40\"></td></tr></table>"
      ],
      "text/plain": [
       "<IPython.core.display.HTML object>"
      ]
     },
     "metadata": {},
     "output_type": "display_data"
    },
    {
     "name": "stdout",
     "output_type": "stream",
     "text": [
      "42\n"
     ]
    },
    {
     "data": {
      "text/html": [
       "<h1>Score: 4</h1><table style=\"border: 5px solid black;\"><tr><td style=\"border:3px solid black; text-align:center;\"\n",
       "         width=\"40\" height=\"40\"></td><td style=\"border:3px solid black; text-align:center;\"\n",
       "         width=\"40\" height=\"40\"></td><td style=\"border:3px solid black; text-align:center;\"\n",
       "         width=\"40\" height=\"40\"></td><td style=\"border:3px solid black; text-align:center;\"\n",
       "         width=\"40\" height=\"40\"></td></tr><tr><td style=\"border:3px solid black; text-align:center;\"\n",
       "         width=\"40\" height=\"40\"></td><td style=\"border:3px solid black; text-align:center;\"\n",
       "         width=\"40\" height=\"40\"></td><td style=\"border:3px solid black; text-align:center;\"\n",
       "         width=\"40\" height=\"40\">4</td><td style=\"border:3px solid black; text-align:center;\"\n",
       "         width=\"40\" height=\"40\"></td></tr><tr><td style=\"border:3px solid black; text-align:center;\"\n",
       "         width=\"40\" height=\"40\"></td><td style=\"border:3px solid black; text-align:center;\"\n",
       "         width=\"40\" height=\"40\"></td><td style=\"border:3px solid black; text-align:center;\"\n",
       "         width=\"40\" height=\"40\"></td><td style=\"border:3px solid black; text-align:center;\"\n",
       "         width=\"40\" height=\"40\"></td></tr><tr><td style=\"border:3px solid black; text-align:center;\"\n",
       "         width=\"40\" height=\"40\"></td><td style=\"border:3px solid black; text-align:center;\"\n",
       "         width=\"40\" height=\"40\"></td><td style=\"border:3px solid black; text-align:center;\"\n",
       "         width=\"40\" height=\"40\"></td><td style=\"border:3px solid black; text-align:center;\"\n",
       "         width=\"40\" height=\"40\">4</td></tr></table>"
      ],
      "text/plain": [
       "<IPython.core.display.HTML object>"
      ]
     },
     "metadata": {},
     "output_type": "display_data"
    },
    {
     "name": "stdout",
     "output_type": "stream",
     "text": [
      "43\n"
     ]
    },
    {
     "data": {
      "text/html": [
       "<h1>Score: 4</h1><table style=\"border: 5px solid black;\"><tr><td style=\"border:3px solid black; text-align:center;\"\n",
       "         width=\"40\" height=\"40\"></td><td style=\"border:3px solid black; text-align:center;\"\n",
       "         width=\"40\" height=\"40\"></td><td style=\"border:3px solid black; text-align:center;\"\n",
       "         width=\"40\" height=\"40\"></td><td style=\"border:3px solid black; text-align:center;\"\n",
       "         width=\"40\" height=\"40\"></td></tr><tr><td style=\"border:3px solid black; text-align:center;\"\n",
       "         width=\"40\" height=\"40\"></td><td style=\"border:3px solid black; text-align:center;\"\n",
       "         width=\"40\" height=\"40\"></td><td style=\"border:3px solid black; text-align:center;\"\n",
       "         width=\"40\" height=\"40\"></td><td style=\"border:3px solid black; text-align:center;\"\n",
       "         width=\"40\" height=\"40\"></td></tr><tr><td style=\"border:3px solid black; text-align:center;\"\n",
       "         width=\"40\" height=\"40\"></td><td style=\"border:3px solid black; text-align:center;\"\n",
       "         width=\"40\" height=\"40\">4</td><td style=\"border:3px solid black; text-align:center;\"\n",
       "         width=\"40\" height=\"40\"></td><td style=\"border:3px solid black; text-align:center;\"\n",
       "         width=\"40\" height=\"40\"></td></tr><tr><td style=\"border:3px solid black; text-align:center;\"\n",
       "         width=\"40\" height=\"40\"></td><td style=\"border:3px solid black; text-align:center;\"\n",
       "         width=\"40\" height=\"40\"></td><td style=\"border:3px solid black; text-align:center;\"\n",
       "         width=\"40\" height=\"40\"></td><td style=\"border:3px solid black; text-align:center;\"\n",
       "         width=\"40\" height=\"40\">2</td></tr></table>"
      ],
      "text/plain": [
       "<IPython.core.display.HTML object>"
      ]
     },
     "metadata": {},
     "output_type": "display_data"
    },
    {
     "name": "stdout",
     "output_type": "stream",
     "text": [
      "44\n"
     ]
    },
    {
     "data": {
      "text/html": [
       "<h1>Score: 4</h1><table style=\"border: 5px solid black;\"><tr><td style=\"border:3px solid black; text-align:center;\"\n",
       "         width=\"40\" height=\"40\">4</td><td style=\"border:3px solid black; text-align:center;\"\n",
       "         width=\"40\" height=\"40\"></td><td style=\"border:3px solid black; text-align:center;\"\n",
       "         width=\"40\" height=\"40\"></td><td style=\"border:3px solid black; text-align:center;\"\n",
       "         width=\"40\" height=\"40\"></td></tr><tr><td style=\"border:3px solid black; text-align:center;\"\n",
       "         width=\"40\" height=\"40\"></td><td style=\"border:3px solid black; text-align:center;\"\n",
       "         width=\"40\" height=\"40\">2</td><td style=\"border:3px solid black; text-align:center;\"\n",
       "         width=\"40\" height=\"40\"></td><td style=\"border:3px solid black; text-align:center;\"\n",
       "         width=\"40\" height=\"40\"></td></tr><tr><td style=\"border:3px solid black; text-align:center;\"\n",
       "         width=\"40\" height=\"40\"></td><td style=\"border:3px solid black; text-align:center;\"\n",
       "         width=\"40\" height=\"40\"></td><td style=\"border:3px solid black; text-align:center;\"\n",
       "         width=\"40\" height=\"40\"></td><td style=\"border:3px solid black; text-align:center;\"\n",
       "         width=\"40\" height=\"40\"></td></tr><tr><td style=\"border:3px solid black; text-align:center;\"\n",
       "         width=\"40\" height=\"40\"></td><td style=\"border:3px solid black; text-align:center;\"\n",
       "         width=\"40\" height=\"40\"></td><td style=\"border:3px solid black; text-align:center;\"\n",
       "         width=\"40\" height=\"40\"></td><td style=\"border:3px solid black; text-align:center;\"\n",
       "         width=\"40\" height=\"40\"></td></tr></table>"
      ],
      "text/plain": [
       "<IPython.core.display.HTML object>"
      ]
     },
     "metadata": {},
     "output_type": "display_data"
    },
    {
     "name": "stdout",
     "output_type": "stream",
     "text": [
      "45\n"
     ]
    },
    {
     "data": {
      "text/html": [
       "<h1>Score: 2</h1><table style=\"border: 5px solid black;\"><tr><td style=\"border:3px solid black; text-align:center;\"\n",
       "         width=\"40\" height=\"40\"></td><td style=\"border:3px solid black; text-align:center;\"\n",
       "         width=\"40\" height=\"40\"></td><td style=\"border:3px solid black; text-align:center;\"\n",
       "         width=\"40\" height=\"40\">2</td><td style=\"border:3px solid black; text-align:center;\"\n",
       "         width=\"40\" height=\"40\"></td></tr><tr><td style=\"border:3px solid black; text-align:center;\"\n",
       "         width=\"40\" height=\"40\"></td><td style=\"border:3px solid black; text-align:center;\"\n",
       "         width=\"40\" height=\"40\"></td><td style=\"border:3px solid black; text-align:center;\"\n",
       "         width=\"40\" height=\"40\">2</td><td style=\"border:3px solid black; text-align:center;\"\n",
       "         width=\"40\" height=\"40\"></td></tr><tr><td style=\"border:3px solid black; text-align:center;\"\n",
       "         width=\"40\" height=\"40\"></td><td style=\"border:3px solid black; text-align:center;\"\n",
       "         width=\"40\" height=\"40\"></td><td style=\"border:3px solid black; text-align:center;\"\n",
       "         width=\"40\" height=\"40\"></td><td style=\"border:3px solid black; text-align:center;\"\n",
       "         width=\"40\" height=\"40\"></td></tr><tr><td style=\"border:3px solid black; text-align:center;\"\n",
       "         width=\"40\" height=\"40\"></td><td style=\"border:3px solid black; text-align:center;\"\n",
       "         width=\"40\" height=\"40\"></td><td style=\"border:3px solid black; text-align:center;\"\n",
       "         width=\"40\" height=\"40\"></td><td style=\"border:3px solid black; text-align:center;\"\n",
       "         width=\"40\" height=\"40\"></td></tr></table>"
      ],
      "text/plain": [
       "<IPython.core.display.HTML object>"
      ]
     },
     "metadata": {},
     "output_type": "display_data"
    },
    {
     "name": "stdout",
     "output_type": "stream",
     "text": [
      "46\n"
     ]
    },
    {
     "data": {
      "text/html": [
       "<h1>Score: 4</h1><table style=\"border: 5px solid black;\"><tr><td style=\"border:3px solid black; text-align:center;\"\n",
       "         width=\"40\" height=\"40\"></td><td style=\"border:3px solid black; text-align:center;\"\n",
       "         width=\"40\" height=\"40\"></td><td style=\"border:3px solid black; text-align:center;\"\n",
       "         width=\"40\" height=\"40\"></td><td style=\"border:3px solid black; text-align:center;\"\n",
       "         width=\"40\" height=\"40\"></td></tr><tr><td style=\"border:3px solid black; text-align:center;\"\n",
       "         width=\"40\" height=\"40\"></td><td style=\"border:3px solid black; text-align:center;\"\n",
       "         width=\"40\" height=\"40\"></td><td style=\"border:3px solid black; text-align:center;\"\n",
       "         width=\"40\" height=\"40\"></td><td style=\"border:3px solid black; text-align:center;\"\n",
       "         width=\"40\" height=\"40\"></td></tr><tr><td style=\"border:3px solid black; text-align:center;\"\n",
       "         width=\"40\" height=\"40\">4</td><td style=\"border:3px solid black; text-align:center;\"\n",
       "         width=\"40\" height=\"40\"></td><td style=\"border:3px solid black; text-align:center;\"\n",
       "         width=\"40\" height=\"40\"></td><td style=\"border:3px solid black; text-align:center;\"\n",
       "         width=\"40\" height=\"40\">4</td></tr><tr><td style=\"border:3px solid black; text-align:center;\"\n",
       "         width=\"40\" height=\"40\"></td><td style=\"border:3px solid black; text-align:center;\"\n",
       "         width=\"40\" height=\"40\"></td><td style=\"border:3px solid black; text-align:center;\"\n",
       "         width=\"40\" height=\"40\"></td><td style=\"border:3px solid black; text-align:center;\"\n",
       "         width=\"40\" height=\"40\"></td></tr></table>"
      ],
      "text/plain": [
       "<IPython.core.display.HTML object>"
      ]
     },
     "metadata": {},
     "output_type": "display_data"
    },
    {
     "name": "stdout",
     "output_type": "stream",
     "text": [
      "47\n"
     ]
    },
    {
     "data": {
      "text/html": [
       "<h1>Score: 4</h1><table style=\"border: 5px solid black;\"><tr><td style=\"border:3px solid black; text-align:center;\"\n",
       "         width=\"40\" height=\"40\"></td><td style=\"border:3px solid black; text-align:center;\"\n",
       "         width=\"40\" height=\"40\"></td><td style=\"border:3px solid black; text-align:center;\"\n",
       "         width=\"40\" height=\"40\"></td><td style=\"border:3px solid black; text-align:center;\"\n",
       "         width=\"40\" height=\"40\"></td></tr><tr><td style=\"border:3px solid black; text-align:center;\"\n",
       "         width=\"40\" height=\"40\"></td><td style=\"border:3px solid black; text-align:center;\"\n",
       "         width=\"40\" height=\"40\"></td><td style=\"border:3px solid black; text-align:center;\"\n",
       "         width=\"40\" height=\"40\">4</td><td style=\"border:3px solid black; text-align:center;\"\n",
       "         width=\"40\" height=\"40\"></td></tr><tr><td style=\"border:3px solid black; text-align:center;\"\n",
       "         width=\"40\" height=\"40\"></td><td style=\"border:3px solid black; text-align:center;\"\n",
       "         width=\"40\" height=\"40\"></td><td style=\"border:3px solid black; text-align:center;\"\n",
       "         width=\"40\" height=\"40\"></td><td style=\"border:3px solid black; text-align:center;\"\n",
       "         width=\"40\" height=\"40\">4</td></tr><tr><td style=\"border:3px solid black; text-align:center;\"\n",
       "         width=\"40\" height=\"40\"></td><td style=\"border:3px solid black; text-align:center;\"\n",
       "         width=\"40\" height=\"40\"></td><td style=\"border:3px solid black; text-align:center;\"\n",
       "         width=\"40\" height=\"40\"></td><td style=\"border:3px solid black; text-align:center;\"\n",
       "         width=\"40\" height=\"40\"></td></tr></table>"
      ],
      "text/plain": [
       "<IPython.core.display.HTML object>"
      ]
     },
     "metadata": {},
     "output_type": "display_data"
    },
    {
     "name": "stdout",
     "output_type": "stream",
     "text": [
      "48\n"
     ]
    },
    {
     "data": {
      "text/html": [
       "<h1>Score: 2</h1><table style=\"border: 5px solid black;\"><tr><td style=\"border:3px solid black; text-align:center;\"\n",
       "         width=\"40\" height=\"40\"></td><td style=\"border:3px solid black; text-align:center;\"\n",
       "         width=\"40\" height=\"40\"></td><td style=\"border:3px solid black; text-align:center;\"\n",
       "         width=\"40\" height=\"40\">2</td><td style=\"border:3px solid black; text-align:center;\"\n",
       "         width=\"40\" height=\"40\"></td></tr><tr><td style=\"border:3px solid black; text-align:center;\"\n",
       "         width=\"40\" height=\"40\"></td><td style=\"border:3px solid black; text-align:center;\"\n",
       "         width=\"40\" height=\"40\"></td><td style=\"border:3px solid black; text-align:center;\"\n",
       "         width=\"40\" height=\"40\"></td><td style=\"border:3px solid black; text-align:center;\"\n",
       "         width=\"40\" height=\"40\"></td></tr><tr><td style=\"border:3px solid black; text-align:center;\"\n",
       "         width=\"40\" height=\"40\"></td><td style=\"border:3px solid black; text-align:center;\"\n",
       "         width=\"40\" height=\"40\">2</td><td style=\"border:3px solid black; text-align:center;\"\n",
       "         width=\"40\" height=\"40\"></td><td style=\"border:3px solid black; text-align:center;\"\n",
       "         width=\"40\" height=\"40\"></td></tr><tr><td style=\"border:3px solid black; text-align:center;\"\n",
       "         width=\"40\" height=\"40\"></td><td style=\"border:3px solid black; text-align:center;\"\n",
       "         width=\"40\" height=\"40\"></td><td style=\"border:3px solid black; text-align:center;\"\n",
       "         width=\"40\" height=\"40\"></td><td style=\"border:3px solid black; text-align:center;\"\n",
       "         width=\"40\" height=\"40\"></td></tr></table>"
      ],
      "text/plain": [
       "<IPython.core.display.HTML object>"
      ]
     },
     "metadata": {},
     "output_type": "display_data"
    },
    {
     "name": "stdout",
     "output_type": "stream",
     "text": [
      "49\n"
     ]
    },
    {
     "data": {
      "text/html": [
       "<h1>Score: 4</h1><table style=\"border: 5px solid black;\"><tr><td style=\"border:3px solid black; text-align:center;\"\n",
       "         width=\"40\" height=\"40\"></td><td style=\"border:3px solid black; text-align:center;\"\n",
       "         width=\"40\" height=\"40\"></td><td style=\"border:3px solid black; text-align:center;\"\n",
       "         width=\"40\" height=\"40\"></td><td style=\"border:3px solid black; text-align:center;\"\n",
       "         width=\"40\" height=\"40\"></td></tr><tr><td style=\"border:3px solid black; text-align:center;\"\n",
       "         width=\"40\" height=\"40\">4</td><td style=\"border:3px solid black; text-align:center;\"\n",
       "         width=\"40\" height=\"40\"></td><td style=\"border:3px solid black; text-align:center;\"\n",
       "         width=\"40\" height=\"40\"></td><td style=\"border:3px solid black; text-align:center;\"\n",
       "         width=\"40\" height=\"40\"></td></tr><tr><td style=\"border:3px solid black; text-align:center;\"\n",
       "         width=\"40\" height=\"40\"></td><td style=\"border:3px solid black; text-align:center;\"\n",
       "         width=\"40\" height=\"40\"></td><td style=\"border:3px solid black; text-align:center;\"\n",
       "         width=\"40\" height=\"40\"></td><td style=\"border:3px solid black; text-align:center;\"\n",
       "         width=\"40\" height=\"40\"></td></tr><tr><td style=\"border:3px solid black; text-align:center;\"\n",
       "         width=\"40\" height=\"40\"></td><td style=\"border:3px solid black; text-align:center;\"\n",
       "         width=\"40\" height=\"40\">4</td><td style=\"border:3px solid black; text-align:center;\"\n",
       "         width=\"40\" height=\"40\"></td><td style=\"border:3px solid black; text-align:center;\"\n",
       "         width=\"40\" height=\"40\"></td></tr></table>"
      ],
      "text/plain": [
       "<IPython.core.display.HTML object>"
      ]
     },
     "metadata": {},
     "output_type": "display_data"
    },
    {
     "name": "stdout",
     "output_type": "stream",
     "text": [
      "50\n"
     ]
    },
    {
     "data": {
      "text/html": [
       "<h1>Score: 4</h1><table style=\"border: 5px solid black;\"><tr><td style=\"border:3px solid black; text-align:center;\"\n",
       "         width=\"40\" height=\"40\"></td><td style=\"border:3px solid black; text-align:center;\"\n",
       "         width=\"40\" height=\"40\"></td><td style=\"border:3px solid black; text-align:center;\"\n",
       "         width=\"40\" height=\"40\"></td><td style=\"border:3px solid black; text-align:center;\"\n",
       "         width=\"40\" height=\"40\"></td></tr><tr><td style=\"border:3px solid black; text-align:center;\"\n",
       "         width=\"40\" height=\"40\"></td><td style=\"border:3px solid black; text-align:center;\"\n",
       "         width=\"40\" height=\"40\"></td><td style=\"border:3px solid black; text-align:center;\"\n",
       "         width=\"40\" height=\"40\"></td><td style=\"border:3px solid black; text-align:center;\"\n",
       "         width=\"40\" height=\"40\">4</td></tr><tr><td style=\"border:3px solid black; text-align:center;\"\n",
       "         width=\"40\" height=\"40\"></td><td style=\"border:3px solid black; text-align:center;\"\n",
       "         width=\"40\" height=\"40\"></td><td style=\"border:3px solid black; text-align:center;\"\n",
       "         width=\"40\" height=\"40\"></td><td style=\"border:3px solid black; text-align:center;\"\n",
       "         width=\"40\" height=\"40\">2</td></tr><tr><td style=\"border:3px solid black; text-align:center;\"\n",
       "         width=\"40\" height=\"40\"></td><td style=\"border:3px solid black; text-align:center;\"\n",
       "         width=\"40\" height=\"40\"></td><td style=\"border:3px solid black; text-align:center;\"\n",
       "         width=\"40\" height=\"40\"></td><td style=\"border:3px solid black; text-align:center;\"\n",
       "         width=\"40\" height=\"40\"></td></tr></table>"
      ],
      "text/plain": [
       "<IPython.core.display.HTML object>"
      ]
     },
     "metadata": {},
     "output_type": "display_data"
    },
    {
     "name": "stdout",
     "output_type": "stream",
     "text": [
      "51\n"
     ]
    },
    {
     "data": {
      "text/html": [
       "<h1>Score: 4</h1><table style=\"border: 5px solid black;\"><tr><td style=\"border:3px solid black; text-align:center;\"\n",
       "         width=\"40\" height=\"40\"></td><td style=\"border:3px solid black; text-align:center;\"\n",
       "         width=\"40\" height=\"40\"></td><td style=\"border:3px solid black; text-align:center;\"\n",
       "         width=\"40\" height=\"40\"></td><td style=\"border:3px solid black; text-align:center;\"\n",
       "         width=\"40\" height=\"40\"></td></tr><tr><td style=\"border:3px solid black; text-align:center;\"\n",
       "         width=\"40\" height=\"40\"></td><td style=\"border:3px solid black; text-align:center;\"\n",
       "         width=\"40\" height=\"40\"></td><td style=\"border:3px solid black; text-align:center;\"\n",
       "         width=\"40\" height=\"40\">4</td><td style=\"border:3px solid black; text-align:center;\"\n",
       "         width=\"40\" height=\"40\"></td></tr><tr><td style=\"border:3px solid black; text-align:center;\"\n",
       "         width=\"40\" height=\"40\"></td><td style=\"border:3px solid black; text-align:center;\"\n",
       "         width=\"40\" height=\"40\">4</td><td style=\"border:3px solid black; text-align:center;\"\n",
       "         width=\"40\" height=\"40\"></td><td style=\"border:3px solid black; text-align:center;\"\n",
       "         width=\"40\" height=\"40\"></td></tr><tr><td style=\"border:3px solid black; text-align:center;\"\n",
       "         width=\"40\" height=\"40\"></td><td style=\"border:3px solid black; text-align:center;\"\n",
       "         width=\"40\" height=\"40\"></td><td style=\"border:3px solid black; text-align:center;\"\n",
       "         width=\"40\" height=\"40\"></td><td style=\"border:3px solid black; text-align:center;\"\n",
       "         width=\"40\" height=\"40\"></td></tr></table>"
      ],
      "text/plain": [
       "<IPython.core.display.HTML object>"
      ]
     },
     "metadata": {},
     "output_type": "display_data"
    },
    {
     "name": "stdout",
     "output_type": "stream",
     "text": [
      "52\n"
     ]
    },
    {
     "data": {
      "text/html": [
       "<h1>Score: 4</h1><table style=\"border: 5px solid black;\"><tr><td style=\"border:3px solid black; text-align:center;\"\n",
       "         width=\"40\" height=\"40\">4</td><td style=\"border:3px solid black; text-align:center;\"\n",
       "         width=\"40\" height=\"40\"></td><td style=\"border:3px solid black; text-align:center;\"\n",
       "         width=\"40\" height=\"40\"></td><td style=\"border:3px solid black; text-align:center;\"\n",
       "         width=\"40\" height=\"40\"></td></tr><tr><td style=\"border:3px solid black; text-align:center;\"\n",
       "         width=\"40\" height=\"40\"></td><td style=\"border:3px solid black; text-align:center;\"\n",
       "         width=\"40\" height=\"40\"></td><td style=\"border:3px solid black; text-align:center;\"\n",
       "         width=\"40\" height=\"40\"></td><td style=\"border:3px solid black; text-align:center;\"\n",
       "         width=\"40\" height=\"40\"></td></tr><tr><td style=\"border:3px solid black; text-align:center;\"\n",
       "         width=\"40\" height=\"40\"></td><td style=\"border:3px solid black; text-align:center;\"\n",
       "         width=\"40\" height=\"40\"></td><td style=\"border:3px solid black; text-align:center;\"\n",
       "         width=\"40\" height=\"40\"></td><td style=\"border:3px solid black; text-align:center;\"\n",
       "         width=\"40\" height=\"40\"></td></tr><tr><td style=\"border:3px solid black; text-align:center;\"\n",
       "         width=\"40\" height=\"40\">4</td><td style=\"border:3px solid black; text-align:center;\"\n",
       "         width=\"40\" height=\"40\"></td><td style=\"border:3px solid black; text-align:center;\"\n",
       "         width=\"40\" height=\"40\"></td><td style=\"border:3px solid black; text-align:center;\"\n",
       "         width=\"40\" height=\"40\"></td></tr></table>"
      ],
      "text/plain": [
       "<IPython.core.display.HTML object>"
      ]
     },
     "metadata": {},
     "output_type": "display_data"
    },
    {
     "name": "stdout",
     "output_type": "stream",
     "text": [
      "53\n"
     ]
    },
    {
     "data": {
      "text/html": [
       "<h1>Score: 2</h1><table style=\"border: 5px solid black;\"><tr><td style=\"border:3px solid black; text-align:center;\"\n",
       "         width=\"40\" height=\"40\"></td><td style=\"border:3px solid black; text-align:center;\"\n",
       "         width=\"40\" height=\"40\"></td><td style=\"border:3px solid black; text-align:center;\"\n",
       "         width=\"40\" height=\"40\"></td><td style=\"border:3px solid black; text-align:center;\"\n",
       "         width=\"40\" height=\"40\"></td></tr><tr><td style=\"border:3px solid black; text-align:center;\"\n",
       "         width=\"40\" height=\"40\"></td><td style=\"border:3px solid black; text-align:center;\"\n",
       "         width=\"40\" height=\"40\">2</td><td style=\"border:3px solid black; text-align:center;\"\n",
       "         width=\"40\" height=\"40\"></td><td style=\"border:3px solid black; text-align:center;\"\n",
       "         width=\"40\" height=\"40\"></td></tr><tr><td style=\"border:3px solid black; text-align:center;\"\n",
       "         width=\"40\" height=\"40\"></td><td style=\"border:3px solid black; text-align:center;\"\n",
       "         width=\"40\" height=\"40\"></td><td style=\"border:3px solid black; text-align:center;\"\n",
       "         width=\"40\" height=\"40\"></td><td style=\"border:3px solid black; text-align:center;\"\n",
       "         width=\"40\" height=\"40\"></td></tr><tr><td style=\"border:3px solid black; text-align:center;\"\n",
       "         width=\"40\" height=\"40\"></td><td style=\"border:3px solid black; text-align:center;\"\n",
       "         width=\"40\" height=\"40\"></td><td style=\"border:3px solid black; text-align:center;\"\n",
       "         width=\"40\" height=\"40\">2</td><td style=\"border:3px solid black; text-align:center;\"\n",
       "         width=\"40\" height=\"40\"></td></tr></table>"
      ],
      "text/plain": [
       "<IPython.core.display.HTML object>"
      ]
     },
     "metadata": {},
     "output_type": "display_data"
    },
    {
     "name": "stdout",
     "output_type": "stream",
     "text": [
      "54\n"
     ]
    },
    {
     "data": {
      "text/html": [
       "<h1>Score: 4</h1><table style=\"border: 5px solid black;\"><tr><td style=\"border:3px solid black; text-align:center;\"\n",
       "         width=\"40\" height=\"40\">2</td><td style=\"border:3px solid black; text-align:center;\"\n",
       "         width=\"40\" height=\"40\"></td><td style=\"border:3px solid black; text-align:center;\"\n",
       "         width=\"40\" height=\"40\"></td><td style=\"border:3px solid black; text-align:center;\"\n",
       "         width=\"40\" height=\"40\"></td></tr><tr><td style=\"border:3px solid black; text-align:center;\"\n",
       "         width=\"40\" height=\"40\"></td><td style=\"border:3px solid black; text-align:center;\"\n",
       "         width=\"40\" height=\"40\"></td><td style=\"border:3px solid black; text-align:center;\"\n",
       "         width=\"40\" height=\"40\"></td><td style=\"border:3px solid black; text-align:center;\"\n",
       "         width=\"40\" height=\"40\"></td></tr><tr><td style=\"border:3px solid black; text-align:center;\"\n",
       "         width=\"40\" height=\"40\"></td><td style=\"border:3px solid black; text-align:center;\"\n",
       "         width=\"40\" height=\"40\"></td><td style=\"border:3px solid black; text-align:center;\"\n",
       "         width=\"40\" height=\"40\"></td><td style=\"border:3px solid black; text-align:center;\"\n",
       "         width=\"40\" height=\"40\">4</td></tr><tr><td style=\"border:3px solid black; text-align:center;\"\n",
       "         width=\"40\" height=\"40\"></td><td style=\"border:3px solid black; text-align:center;\"\n",
       "         width=\"40\" height=\"40\"></td><td style=\"border:3px solid black; text-align:center;\"\n",
       "         width=\"40\" height=\"40\"></td><td style=\"border:3px solid black; text-align:center;\"\n",
       "         width=\"40\" height=\"40\"></td></tr></table>"
      ],
      "text/plain": [
       "<IPython.core.display.HTML object>"
      ]
     },
     "metadata": {},
     "output_type": "display_data"
    },
    {
     "name": "stdout",
     "output_type": "stream",
     "text": [
      "55\n"
     ]
    },
    {
     "data": {
      "text/html": [
       "<h1>Score: 2</h1><table style=\"border: 5px solid black;\"><tr><td style=\"border:3px solid black; text-align:center;\"\n",
       "         width=\"40\" height=\"40\"></td><td style=\"border:3px solid black; text-align:center;\"\n",
       "         width=\"40\" height=\"40\"></td><td style=\"border:3px solid black; text-align:center;\"\n",
       "         width=\"40\" height=\"40\">2</td><td style=\"border:3px solid black; text-align:center;\"\n",
       "         width=\"40\" height=\"40\"></td></tr><tr><td style=\"border:3px solid black; text-align:center;\"\n",
       "         width=\"40\" height=\"40\"></td><td style=\"border:3px solid black; text-align:center;\"\n",
       "         width=\"40\" height=\"40\"></td><td style=\"border:3px solid black; text-align:center;\"\n",
       "         width=\"40\" height=\"40\"></td><td style=\"border:3px solid black; text-align:center;\"\n",
       "         width=\"40\" height=\"40\"></td></tr><tr><td style=\"border:3px solid black; text-align:center;\"\n",
       "         width=\"40\" height=\"40\"></td><td style=\"border:3px solid black; text-align:center;\"\n",
       "         width=\"40\" height=\"40\"></td><td style=\"border:3px solid black; text-align:center;\"\n",
       "         width=\"40\" height=\"40\"></td><td style=\"border:3px solid black; text-align:center;\"\n",
       "         width=\"40\" height=\"40\"></td></tr><tr><td style=\"border:3px solid black; text-align:center;\"\n",
       "         width=\"40\" height=\"40\"></td><td style=\"border:3px solid black; text-align:center;\"\n",
       "         width=\"40\" height=\"40\">2</td><td style=\"border:3px solid black; text-align:center;\"\n",
       "         width=\"40\" height=\"40\"></td><td style=\"border:3px solid black; text-align:center;\"\n",
       "         width=\"40\" height=\"40\"></td></tr></table>"
      ],
      "text/plain": [
       "<IPython.core.display.HTML object>"
      ]
     },
     "metadata": {},
     "output_type": "display_data"
    },
    {
     "name": "stdout",
     "output_type": "stream",
     "text": [
      "56\n"
     ]
    },
    {
     "data": {
      "text/html": [
       "<h1>Score: 4</h1><table style=\"border: 5px solid black;\"><tr><td style=\"border:3px solid black; text-align:center;\"\n",
       "         width=\"40\" height=\"40\"></td><td style=\"border:3px solid black; text-align:center;\"\n",
       "         width=\"40\" height=\"40\"></td><td style=\"border:3px solid black; text-align:center;\"\n",
       "         width=\"40\" height=\"40\"></td><td style=\"border:3px solid black; text-align:center;\"\n",
       "         width=\"40\" height=\"40\"></td></tr><tr><td style=\"border:3px solid black; text-align:center;\"\n",
       "         width=\"40\" height=\"40\"></td><td style=\"border:3px solid black; text-align:center;\"\n",
       "         width=\"40\" height=\"40\"></td><td style=\"border:3px solid black; text-align:center;\"\n",
       "         width=\"40\" height=\"40\"></td><td style=\"border:3px solid black; text-align:center;\"\n",
       "         width=\"40\" height=\"40\"></td></tr><tr><td style=\"border:3px solid black; text-align:center;\"\n",
       "         width=\"40\" height=\"40\"></td><td style=\"border:3px solid black; text-align:center;\"\n",
       "         width=\"40\" height=\"40\">4</td><td style=\"border:3px solid black; text-align:center;\"\n",
       "         width=\"40\" height=\"40\">2</td><td style=\"border:3px solid black; text-align:center;\"\n",
       "         width=\"40\" height=\"40\"></td></tr><tr><td style=\"border:3px solid black; text-align:center;\"\n",
       "         width=\"40\" height=\"40\"></td><td style=\"border:3px solid black; text-align:center;\"\n",
       "         width=\"40\" height=\"40\"></td><td style=\"border:3px solid black; text-align:center;\"\n",
       "         width=\"40\" height=\"40\"></td><td style=\"border:3px solid black; text-align:center;\"\n",
       "         width=\"40\" height=\"40\"></td></tr></table>"
      ],
      "text/plain": [
       "<IPython.core.display.HTML object>"
      ]
     },
     "metadata": {},
     "output_type": "display_data"
    },
    {
     "name": "stdout",
     "output_type": "stream",
     "text": [
      "57\n"
     ]
    },
    {
     "data": {
      "text/html": [
       "<h1>Score: 2</h1><table style=\"border: 5px solid black;\"><tr><td style=\"border:3px solid black; text-align:center;\"\n",
       "         width=\"40\" height=\"40\"></td><td style=\"border:3px solid black; text-align:center;\"\n",
       "         width=\"40\" height=\"40\"></td><td style=\"border:3px solid black; text-align:center;\"\n",
       "         width=\"40\" height=\"40\"></td><td style=\"border:3px solid black; text-align:center;\"\n",
       "         width=\"40\" height=\"40\"></td></tr><tr><td style=\"border:3px solid black; text-align:center;\"\n",
       "         width=\"40\" height=\"40\">2</td><td style=\"border:3px solid black; text-align:center;\"\n",
       "         width=\"40\" height=\"40\"></td><td style=\"border:3px solid black; text-align:center;\"\n",
       "         width=\"40\" height=\"40\"></td><td style=\"border:3px solid black; text-align:center;\"\n",
       "         width=\"40\" height=\"40\"></td></tr><tr><td style=\"border:3px solid black; text-align:center;\"\n",
       "         width=\"40\" height=\"40\"></td><td style=\"border:3px solid black; text-align:center;\"\n",
       "         width=\"40\" height=\"40\"></td><td style=\"border:3px solid black; text-align:center;\"\n",
       "         width=\"40\" height=\"40\"></td><td style=\"border:3px solid black; text-align:center;\"\n",
       "         width=\"40\" height=\"40\"></td></tr><tr><td style=\"border:3px solid black; text-align:center;\"\n",
       "         width=\"40\" height=\"40\">2</td><td style=\"border:3px solid black; text-align:center;\"\n",
       "         width=\"40\" height=\"40\"></td><td style=\"border:3px solid black; text-align:center;\"\n",
       "         width=\"40\" height=\"40\"></td><td style=\"border:3px solid black; text-align:center;\"\n",
       "         width=\"40\" height=\"40\"></td></tr></table>"
      ],
      "text/plain": [
       "<IPython.core.display.HTML object>"
      ]
     },
     "metadata": {},
     "output_type": "display_data"
    },
    {
     "name": "stdout",
     "output_type": "stream",
     "text": [
      "58\n"
     ]
    },
    {
     "data": {
      "text/html": [
       "<h1>Score: 4</h1><table style=\"border: 5px solid black;\"><tr><td style=\"border:3px solid black; text-align:center;\"\n",
       "         width=\"40\" height=\"40\"></td><td style=\"border:3px solid black; text-align:center;\"\n",
       "         width=\"40\" height=\"40\">4</td><td style=\"border:3px solid black; text-align:center;\"\n",
       "         width=\"40\" height=\"40\"></td><td style=\"border:3px solid black; text-align:center;\"\n",
       "         width=\"40\" height=\"40\"></td></tr><tr><td style=\"border:3px solid black; text-align:center;\"\n",
       "         width=\"40\" height=\"40\"></td><td style=\"border:3px solid black; text-align:center;\"\n",
       "         width=\"40\" height=\"40\"></td><td style=\"border:3px solid black; text-align:center;\"\n",
       "         width=\"40\" height=\"40\">4</td><td style=\"border:3px solid black; text-align:center;\"\n",
       "         width=\"40\" height=\"40\"></td></tr><tr><td style=\"border:3px solid black; text-align:center;\"\n",
       "         width=\"40\" height=\"40\"></td><td style=\"border:3px solid black; text-align:center;\"\n",
       "         width=\"40\" height=\"40\"></td><td style=\"border:3px solid black; text-align:center;\"\n",
       "         width=\"40\" height=\"40\"></td><td style=\"border:3px solid black; text-align:center;\"\n",
       "         width=\"40\" height=\"40\"></td></tr><tr><td style=\"border:3px solid black; text-align:center;\"\n",
       "         width=\"40\" height=\"40\"></td><td style=\"border:3px solid black; text-align:center;\"\n",
       "         width=\"40\" height=\"40\"></td><td style=\"border:3px solid black; text-align:center;\"\n",
       "         width=\"40\" height=\"40\"></td><td style=\"border:3px solid black; text-align:center;\"\n",
       "         width=\"40\" height=\"40\"></td></tr></table>"
      ],
      "text/plain": [
       "<IPython.core.display.HTML object>"
      ]
     },
     "metadata": {},
     "output_type": "display_data"
    },
    {
     "name": "stdout",
     "output_type": "stream",
     "text": [
      "59\n"
     ]
    },
    {
     "data": {
      "text/html": [
       "<h1>Score: 2</h1><table style=\"border: 5px solid black;\"><tr><td style=\"border:3px solid black; text-align:center;\"\n",
       "         width=\"40\" height=\"40\"></td><td style=\"border:3px solid black; text-align:center;\"\n",
       "         width=\"40\" height=\"40\"></td><td style=\"border:3px solid black; text-align:center;\"\n",
       "         width=\"40\" height=\"40\"></td><td style=\"border:3px solid black; text-align:center;\"\n",
       "         width=\"40\" height=\"40\"></td></tr><tr><td style=\"border:3px solid black; text-align:center;\"\n",
       "         width=\"40\" height=\"40\"></td><td style=\"border:3px solid black; text-align:center;\"\n",
       "         width=\"40\" height=\"40\"></td><td style=\"border:3px solid black; text-align:center;\"\n",
       "         width=\"40\" height=\"40\"></td><td style=\"border:3px solid black; text-align:center;\"\n",
       "         width=\"40\" height=\"40\">2</td></tr><tr><td style=\"border:3px solid black; text-align:center;\"\n",
       "         width=\"40\" height=\"40\"></td><td style=\"border:3px solid black; text-align:center;\"\n",
       "         width=\"40\" height=\"40\"></td><td style=\"border:3px solid black; text-align:center;\"\n",
       "         width=\"40\" height=\"40\">2</td><td style=\"border:3px solid black; text-align:center;\"\n",
       "         width=\"40\" height=\"40\"></td></tr><tr><td style=\"border:3px solid black; text-align:center;\"\n",
       "         width=\"40\" height=\"40\"></td><td style=\"border:3px solid black; text-align:center;\"\n",
       "         width=\"40\" height=\"40\"></td><td style=\"border:3px solid black; text-align:center;\"\n",
       "         width=\"40\" height=\"40\"></td><td style=\"border:3px solid black; text-align:center;\"\n",
       "         width=\"40\" height=\"40\"></td></tr></table>"
      ],
      "text/plain": [
       "<IPython.core.display.HTML object>"
      ]
     },
     "metadata": {},
     "output_type": "display_data"
    },
    {
     "name": "stdout",
     "output_type": "stream",
     "text": [
      "60\n"
     ]
    },
    {
     "data": {
      "text/html": [
       "<h1>Score: 4</h1><table style=\"border: 5px solid black;\"><tr><td style=\"border:3px solid black; text-align:center;\"\n",
       "         width=\"40\" height=\"40\"></td><td style=\"border:3px solid black; text-align:center;\"\n",
       "         width=\"40\" height=\"40\">2</td><td style=\"border:3px solid black; text-align:center;\"\n",
       "         width=\"40\" height=\"40\"></td><td style=\"border:3px solid black; text-align:center;\"\n",
       "         width=\"40\" height=\"40\"></td></tr><tr><td style=\"border:3px solid black; text-align:center;\"\n",
       "         width=\"40\" height=\"40\"></td><td style=\"border:3px solid black; text-align:center;\"\n",
       "         width=\"40\" height=\"40\"></td><td style=\"border:3px solid black; text-align:center;\"\n",
       "         width=\"40\" height=\"40\"></td><td style=\"border:3px solid black; text-align:center;\"\n",
       "         width=\"40\" height=\"40\"></td></tr><tr><td style=\"border:3px solid black; text-align:center;\"\n",
       "         width=\"40\" height=\"40\"></td><td style=\"border:3px solid black; text-align:center;\"\n",
       "         width=\"40\" height=\"40\"></td><td style=\"border:3px solid black; text-align:center;\"\n",
       "         width=\"40\" height=\"40\"></td><td style=\"border:3px solid black; text-align:center;\"\n",
       "         width=\"40\" height=\"40\"></td></tr><tr><td style=\"border:3px solid black; text-align:center;\"\n",
       "         width=\"40\" height=\"40\"></td><td style=\"border:3px solid black; text-align:center;\"\n",
       "         width=\"40\" height=\"40\"></td><td style=\"border:3px solid black; text-align:center;\"\n",
       "         width=\"40\" height=\"40\">4</td><td style=\"border:3px solid black; text-align:center;\"\n",
       "         width=\"40\" height=\"40\"></td></tr></table>"
      ],
      "text/plain": [
       "<IPython.core.display.HTML object>"
      ]
     },
     "metadata": {},
     "output_type": "display_data"
    },
    {
     "name": "stdout",
     "output_type": "stream",
     "text": [
      "61\n"
     ]
    },
    {
     "data": {
      "text/html": [
       "<h1>Score: 4</h1><table style=\"border: 5px solid black;\"><tr><td style=\"border:3px solid black; text-align:center;\"\n",
       "         width=\"40\" height=\"40\"></td><td style=\"border:3px solid black; text-align:center;\"\n",
       "         width=\"40\" height=\"40\"></td><td style=\"border:3px solid black; text-align:center;\"\n",
       "         width=\"40\" height=\"40\"></td><td style=\"border:3px solid black; text-align:center;\"\n",
       "         width=\"40\" height=\"40\"></td></tr><tr><td style=\"border:3px solid black; text-align:center;\"\n",
       "         width=\"40\" height=\"40\">4</td><td style=\"border:3px solid black; text-align:center;\"\n",
       "         width=\"40\" height=\"40\"></td><td style=\"border:3px solid black; text-align:center;\"\n",
       "         width=\"40\" height=\"40\"></td><td style=\"border:3px solid black; text-align:center;\"\n",
       "         width=\"40\" height=\"40\"></td></tr><tr><td style=\"border:3px solid black; text-align:center;\"\n",
       "         width=\"40\" height=\"40\"></td><td style=\"border:3px solid black; text-align:center;\"\n",
       "         width=\"40\" height=\"40\"></td><td style=\"border:3px solid black; text-align:center;\"\n",
       "         width=\"40\" height=\"40\"></td><td style=\"border:3px solid black; text-align:center;\"\n",
       "         width=\"40\" height=\"40\"></td></tr><tr><td style=\"border:3px solid black; text-align:center;\"\n",
       "         width=\"40\" height=\"40\">4</td><td style=\"border:3px solid black; text-align:center;\"\n",
       "         width=\"40\" height=\"40\"></td><td style=\"border:3px solid black; text-align:center;\"\n",
       "         width=\"40\" height=\"40\"></td><td style=\"border:3px solid black; text-align:center;\"\n",
       "         width=\"40\" height=\"40\"></td></tr></table>"
      ],
      "text/plain": [
       "<IPython.core.display.HTML object>"
      ]
     },
     "metadata": {},
     "output_type": "display_data"
    }
   ],
   "source": [
    "#生成数据集\n",
    "for i in range(5000):\n",
    "    game = Game(4, score_to_win=2048, random=False)\n",
    "    display2.display(game)\n",
    "    agent2 = getBoardFormExpect(game, display=display2)\n",
    "    agent2.writeBoard()\n",
    "    print(i)\n",
    "for i in range(17000):\n",
    "    game = Game(4, score_to_win=1024, random=False)\n",
    "    display2.display(game)\n",
    "    agent2 = getBoardFormExpect(game, display=display2)\n",
    "    agent2.writeBoard()\n",
    "    print(i)"
   ]
  },
  {
   "cell_type": "code",
   "execution_count": 189,
   "metadata": {},
   "outputs": [],
   "source": [
    "trainDataset = DealDataset(root=trainfilertoread, transform=transforms.Compose(transforms=[transforms.ToTensor()]))\n",
    "train_loader = DataLoader(dataset=trainDataset, batch_size=BATCH_SIZE, shuffle=True, num_workers=0)"
   ]
  },
  {
   "cell_type": "code",
   "execution_count": 191,
   "metadata": {},
   "outputs": [
    {
     "name": "stdout",
     "output_type": "stream",
     "text": [
      "0.001\n"
     ]
    }
   ],
   "source": [
    "#model = RNN()\n",
    "model = torch.load('/DATA5_DB8/data/gjliu/game2048/model/model_rnn_256_dataup/rnn_256_model_24.pkl', map_location='cpu')\n",
    "criterion = torch.nn.CrossEntropyLoss()\n",
    "optimizer = torch.optim.Adam(model.parameters(),lr=0.0003)\n",
    "print(LR)"
   ]
  },
  {
   "cell_type": "code",
   "execution_count": null,
   "metadata": {},
   "outputs": [
    {
     "name": "stdout",
     "output_type": "stream",
     "text": [
      "Epoch:  0 | train loss: 0.6335 | test accuracy: 0.7344\n",
      "Epoch:  0 | train loss: 0.3647 | test accuracy: 0.8438\n",
      "Epoch:  0 | train loss: 0.3367 | test accuracy: 0.8281\n",
      "Epoch:  0 | train loss: 0.4926 | test accuracy: 0.7969\n",
      "Epoch:  0 | train loss: 0.5435 | test accuracy: 0.7656\n",
      "Epoch:  0 | train loss: 0.3820 | test accuracy: 0.8125\n",
      "Epoch:  0 | train loss: 0.3608 | test accuracy: 0.8281\n",
      "Epoch:  0 | train loss: 0.5621 | test accuracy: 0.7812\n",
      "Epoch:  0 | train loss: 0.3295 | test accuracy: 0.8594\n",
      "Epoch:  0 | train loss: 0.4697 | test accuracy: 0.8125\n",
      "Epoch:  0 | train loss: 0.4060 | test accuracy: 0.8281\n",
      "Epoch:  0 | train loss: 0.3706 | test accuracy: 0.8438\n",
      "Epoch:  0 | train loss: 0.5368 | test accuracy: 0.7344\n",
      "Epoch:  0 | train loss: 0.4354 | test accuracy: 0.8125\n",
      "Epoch:  0 | train loss: 0.4772 | test accuracy: 0.7969\n",
      "Epoch:  0 | train loss: 0.5310 | test accuracy: 0.7344\n",
      "Epoch:  0 | train loss: 0.6547 | test accuracy: 0.7656\n",
      "Epoch:  0 | train loss: 0.5220 | test accuracy: 0.7656\n",
      "Epoch:  0 | train loss: 0.5772 | test accuracy: 0.7031\n",
      "Epoch:  0 | train loss: 0.5624 | test accuracy: 0.7969\n",
      "Epoch:  0 | train loss: 0.5039 | test accuracy: 0.7031\n",
      "Epoch:  0 | train loss: 0.5228 | test accuracy: 0.7344\n",
      "Epoch:  0 | train loss: 0.5275 | test accuracy: 0.7812\n",
      "Epoch:  0 | train loss: 0.5120 | test accuracy: 0.7500\n",
      "Epoch:  0 | train loss: 0.5067 | test accuracy: 0.7812\n",
      "Epoch:  0 | train loss: 0.4644 | test accuracy: 0.7500\n",
      "Epoch:  0 | train loss: 0.5520 | test accuracy: 0.7500\n",
      "Epoch:  0 | train loss: 0.4909 | test accuracy: 0.7812\n",
      "Epoch:  0 | train loss: 0.4846 | test accuracy: 0.8281\n",
      "Epoch:  0 | train loss: 0.5086 | test accuracy: 0.7500\n",
      "Epoch:  0 | train loss: 0.3997 | test accuracy: 0.7969\n",
      "Epoch:  0 | train loss: 0.4128 | test accuracy: 0.8438\n",
      "Epoch:  0 | train loss: 0.4128 | test accuracy: 0.8125\n",
      "Epoch:  0 | train loss: 0.4278 | test accuracy: 0.8281\n",
      "Epoch:  0 | train loss: 0.4859 | test accuracy: 0.8281\n",
      "Epoch:  0 | train loss: 0.4628 | test accuracy: 0.7812\n",
      "Epoch:  0 | train loss: 0.5658 | test accuracy: 0.7344\n",
      "Epoch:  0 | train loss: 0.4003 | test accuracy: 0.8281\n",
      "Epoch:  0 | train loss: 0.4546 | test accuracy: 0.8125\n",
      "Epoch:  0 | train loss: 0.5146 | test accuracy: 0.7656\n",
      "Epoch:  0 | train loss: 0.5878 | test accuracy: 0.7031\n",
      "Epoch:  0 | train loss: 0.7027 | test accuracy: 0.7031\n",
      "Epoch:  0 | train loss: 0.3435 | test accuracy: 0.8281\n",
      "Epoch:  0 | train loss: 0.5299 | test accuracy: 0.8125\n",
      "Epoch:  0 | train loss: 0.5596 | test accuracy: 0.6719\n",
      "Epoch:  0 | train loss: 0.6039 | test accuracy: 0.7500\n",
      "Epoch:  0 | train loss: 0.4462 | test accuracy: 0.7812\n",
      "Epoch:  0 | train loss: 0.4787 | test accuracy: 0.7969\n",
      "Epoch:  0 | train loss: 0.4493 | test accuracy: 0.7656\n",
      "Epoch:  0 | train loss: 0.4816 | test accuracy: 0.7500\n",
      "Epoch:  0 | train loss: 0.5268 | test accuracy: 0.7656\n",
      "Epoch:  0 | train loss: 0.4266 | test accuracy: 0.8281\n",
      "Epoch:  0 | train loss: 0.5249 | test accuracy: 0.7500\n",
      "Epoch:  0 | train loss: 0.4582 | test accuracy: 0.7969\n",
      "Epoch:  0 | train loss: 0.5039 | test accuracy: 0.7812\n",
      "Epoch:  0 | train loss: 0.5160 | test accuracy: 0.8125\n",
      "Epoch:  0 | train loss: 0.5628 | test accuracy: 0.7344\n",
      "Epoch:  0 | train loss: 0.3476 | test accuracy: 0.8438\n",
      "Epoch:  0 | train loss: 0.4953 | test accuracy: 0.7656\n",
      "Epoch:  0 | train loss: 0.5466 | test accuracy: 0.7344\n",
      "Epoch:  0 | train loss: 0.5506 | test accuracy: 0.8125\n",
      "Epoch:  0 | train loss: 0.4219 | test accuracy: 0.8906\n",
      "Epoch:  0 | train loss: 0.4768 | test accuracy: 0.8125\n",
      "Epoch:  0 | train loss: 0.5531 | test accuracy: 0.7188\n",
      "Epoch:  0 | train loss: 0.4200 | test accuracy: 0.8750\n",
      "Epoch:  0 | train loss: 0.4677 | test accuracy: 0.7812\n",
      "Epoch:  0 | train loss: 0.4904 | test accuracy: 0.7344\n",
      "Epoch:  0 | train loss: 0.5082 | test accuracy: 0.8125\n",
      "Epoch:  0 | train loss: 0.4631 | test accuracy: 0.7969\n",
      "Epoch:  0 | train loss: 0.5000 | test accuracy: 0.7031\n",
      "Epoch:  0 | train loss: 0.5432 | test accuracy: 0.7500\n",
      "Epoch:  0 | train loss: 0.5232 | test accuracy: 0.7188\n",
      "Epoch:  0 | train loss: 0.4375 | test accuracy: 0.8125\n",
      "Epoch:  0 | train loss: 0.4537 | test accuracy: 0.7500\n",
      "Epoch:  0 | train loss: 0.3998 | test accuracy: 0.7500\n",
      "Epoch:  0 | train loss: 0.5010 | test accuracy: 0.7969\n",
      "Epoch:  0 | train loss: 0.7578 | test accuracy: 0.6875\n",
      "Epoch:  0 | train loss: 0.5203 | test accuracy: 0.8125\n",
      "Epoch:  0 | train loss: 0.4324 | test accuracy: 0.7969\n",
      "Epoch:  0 | train loss: 0.4581 | test accuracy: 0.8125\n",
      "Epoch:  0 | train loss: 0.4482 | test accuracy: 0.8438\n",
      "Epoch:  0 | train loss: 0.4149 | test accuracy: 0.7969\n",
      "Epoch:  0 | train loss: 0.5075 | test accuracy: 0.8281\n",
      "Epoch:  0 | train loss: 0.5582 | test accuracy: 0.7031\n",
      "Epoch:  0 | train loss: 0.5666 | test accuracy: 0.7500\n",
      "Epoch:  0 | train loss: 0.5459 | test accuracy: 0.7344\n",
      "Epoch:  0 | train loss: 0.6901 | test accuracy: 0.6562\n",
      "Epoch:  0 | train loss: 0.4213 | test accuracy: 0.9062\n",
      "Epoch:  0 | train loss: 0.5263 | test accuracy: 0.7344\n",
      "Epoch:  0 | train loss: 0.4503 | test accuracy: 0.7969\n",
      "Epoch:  0 | train loss: 0.5115 | test accuracy: 0.7969\n",
      "Epoch:  0 | train loss: 0.4983 | test accuracy: 0.7500\n",
      "Epoch:  0 | train loss: 0.5154 | test accuracy: 0.7969\n",
      "Epoch:  0 | train loss: 0.4398 | test accuracy: 0.8281\n",
      "Epoch:  0 | train loss: 0.5792 | test accuracy: 0.7500\n",
      "Epoch:  0 | train loss: 0.5780 | test accuracy: 0.7500\n",
      "Epoch:  0 | train loss: 0.4315 | test accuracy: 0.8438\n",
      "Epoch:  0 | train loss: 0.3347 | test accuracy: 0.8594\n",
      "Epoch:  0 | train loss: 0.3830 | test accuracy: 0.8594\n",
      "Epoch:  0 | train loss: 0.5358 | test accuracy: 0.7500\n",
      "Epoch:  0 | train loss: 0.5785 | test accuracy: 0.7656\n",
      "Epoch:  0 | train loss: 0.5623 | test accuracy: 0.7812\n",
      "Epoch:  0 | train loss: 0.4359 | test accuracy: 0.7656\n",
      "Epoch:  0 | train loss: 0.4022 | test accuracy: 0.8750\n",
      "Epoch:  0 | train loss: 0.5761 | test accuracy: 0.7969\n",
      "Epoch:  0 | train loss: 0.5166 | test accuracy: 0.7656\n",
      "Epoch:  0 | train loss: 0.5729 | test accuracy: 0.7188\n",
      "Epoch:  0 | train loss: 0.4017 | test accuracy: 0.8281\n",
      "Epoch:  0 | train loss: 0.4795 | test accuracy: 0.7656\n",
      "Epoch:  0 | train loss: 0.7286 | test accuracy: 0.7188\n",
      "Epoch:  0 | train loss: 0.3587 | test accuracy: 0.8906\n",
      "Epoch:  0 | train loss: 0.3990 | test accuracy: 0.8594\n",
      "Epoch:  0 | train loss: 0.5411 | test accuracy: 0.7188\n",
      "Epoch:  0 | train loss: 0.4278 | test accuracy: 0.7812\n",
      "Epoch:  0 | train loss: 0.4472 | test accuracy: 0.7500\n",
      "Epoch:  0 | train loss: 0.5309 | test accuracy: 0.7969\n",
      "Epoch:  0 | train loss: 0.5576 | test accuracy: 0.7812\n",
      "Epoch:  0 | train loss: 0.3819 | test accuracy: 0.8594\n",
      "Epoch:  0 | train loss: 0.4513 | test accuracy: 0.7969\n",
      "Epoch:  0 | train loss: 0.5973 | test accuracy: 0.7031\n",
      "Epoch:  0 | train loss: 0.5097 | test accuracy: 0.7656\n",
      "Epoch:  0 | train loss: 0.4267 | test accuracy: 0.8281\n",
      "Epoch:  0 | train loss: 0.3933 | test accuracy: 0.8906\n",
      "Epoch:  0 | train loss: 0.3711 | test accuracy: 0.7969\n",
      "Epoch:  0 | train loss: 0.5530 | test accuracy: 0.7500\n",
      "Epoch:  0 | train loss: 0.4361 | test accuracy: 0.7812\n",
      "Epoch:  0 | train loss: 0.4246 | test accuracy: 0.8281\n",
      "Epoch:  0 | train loss: 0.5588 | test accuracy: 0.7500\n",
      "Epoch:  0 | train loss: 0.5337 | test accuracy: 0.7188\n",
      "Epoch:  0 | train loss: 0.5066 | test accuracy: 0.7500\n",
      "Epoch:  0 | train loss: 0.3999 | test accuracy: 0.8125\n",
      "Epoch:  0 | train loss: 0.5184 | test accuracy: 0.7969\n",
      "Epoch:  0 | train loss: 0.5443 | test accuracy: 0.8125\n",
      "Epoch:  0 | train loss: 0.4227 | test accuracy: 0.8125\n",
      "Epoch:  0 | train loss: 0.4572 | test accuracy: 0.7969\n",
      "Epoch:  0 | train loss: 0.4817 | test accuracy: 0.7344\n",
      "Epoch:  0 | train loss: 0.3242 | test accuracy: 0.9062\n",
      "Epoch:  0 | train loss: 0.5068 | test accuracy: 0.8594\n",
      "Epoch:  0 | train loss: 0.5709 | test accuracy: 0.7344\n",
      "Epoch:  0 | train loss: 0.5693 | test accuracy: 0.7500\n",
      "Epoch:  0 | train loss: 0.5263 | test accuracy: 0.7656\n",
      "Epoch:  0 | train loss: 0.4716 | test accuracy: 0.7812\n",
      "Epoch:  0 | train loss: 0.3239 | test accuracy: 0.8906\n",
      "Epoch:  0 | train loss: 0.4323 | test accuracy: 0.7969\n",
      "Epoch:  0 | train loss: 0.5107 | test accuracy: 0.7656\n",
      "Epoch:  0 | train loss: 0.5330 | test accuracy: 0.7812\n",
      "Epoch:  0 | train loss: 0.5578 | test accuracy: 0.7500\n",
      "Epoch:  0 | train loss: 0.4199 | test accuracy: 0.8281\n",
      "Epoch:  0 | train loss: 0.5649 | test accuracy: 0.7344\n"
     ]
    },
    {
     "name": "stdout",
     "output_type": "stream",
     "text": [
      "Epoch:  0 | train loss: 0.4638 | test accuracy: 0.8125\n",
      "Epoch:  0 | train loss: 0.3592 | test accuracy: 0.8125\n",
      "Epoch:  0 | train loss: 0.5494 | test accuracy: 0.7500\n",
      "Epoch:  0 | train loss: 0.4624 | test accuracy: 0.8281\n",
      "Epoch:  0 | train loss: 0.5246 | test accuracy: 0.7969\n",
      "Epoch:  0 | train loss: 0.5815 | test accuracy: 0.7188\n",
      "Epoch:  0 | train loss: 0.3892 | test accuracy: 0.8438\n",
      "Epoch:  0 | train loss: 0.4927 | test accuracy: 0.7969\n",
      "Epoch:  0 | train loss: 0.4694 | test accuracy: 0.7812\n",
      "Epoch:  0 | train loss: 0.4902 | test accuracy: 0.8125\n",
      "Epoch:  0 | train loss: 0.4769 | test accuracy: 0.8125\n",
      "Epoch:  0 | train loss: 0.5180 | test accuracy: 0.7656\n",
      "Epoch:  0 | train loss: 0.5468 | test accuracy: 0.7656\n",
      "Epoch:  0 | train loss: 0.6086 | test accuracy: 0.6875\n",
      "Epoch:  0 | train loss: 0.5145 | test accuracy: 0.7188\n",
      "Epoch:  0 | train loss: 0.3924 | test accuracy: 0.8438\n",
      "Epoch:  0 | train loss: 0.6157 | test accuracy: 0.7344\n",
      "Epoch:  0 | train loss: 0.4885 | test accuracy: 0.7188\n",
      "Epoch:  0 | train loss: 0.3867 | test accuracy: 0.7969\n",
      "Epoch:  0 | train loss: 0.3509 | test accuracy: 0.8438\n",
      "Epoch:  0 | train loss: 0.4240 | test accuracy: 0.8281\n",
      "Epoch:  0 | train loss: 0.5535 | test accuracy: 0.7188\n",
      "Epoch:  0 | train loss: 0.5256 | test accuracy: 0.7812\n",
      "Epoch:  0 | train loss: 0.5431 | test accuracy: 0.7656\n",
      "Epoch:  0 | train loss: 0.4209 | test accuracy: 0.8125\n",
      "Epoch:  0 | train loss: 0.5730 | test accuracy: 0.7031\n",
      "Epoch:  0 | train loss: 0.4516 | test accuracy: 0.7500\n",
      "Epoch:  0 | train loss: 0.4940 | test accuracy: 0.7812\n",
      "Epoch:  0 | train loss: 0.5476 | test accuracy: 0.6875\n",
      "Epoch:  0 | train loss: 0.4938 | test accuracy: 0.7969\n",
      "Epoch:  0 | train loss: 0.3966 | test accuracy: 0.8281\n",
      "Epoch:  0 | train loss: 0.4332 | test accuracy: 0.8125\n",
      "Epoch:  0 | train loss: 0.3844 | test accuracy: 0.8125\n",
      "Epoch:  0 | train loss: 0.4045 | test accuracy: 0.7969\n",
      "Epoch:  0 | train loss: 0.4619 | test accuracy: 0.7500\n",
      "Epoch:  0 | train loss: 0.4992 | test accuracy: 0.7812\n",
      "Epoch:  0 | train loss: 0.3231 | test accuracy: 0.8594\n",
      "Epoch:  0 | train loss: 0.4881 | test accuracy: 0.7812\n",
      "Epoch:  0 | train loss: 0.5213 | test accuracy: 0.7188\n",
      "Epoch:  0 | train loss: 0.5697 | test accuracy: 0.7500\n",
      "Epoch:  0 | train loss: 0.4742 | test accuracy: 0.7344\n",
      "Epoch:  0 | train loss: 0.6384 | test accuracy: 0.7188\n",
      "Epoch:  0 | train loss: 0.3877 | test accuracy: 0.7969\n",
      "Epoch:  0 | train loss: 0.5258 | test accuracy: 0.7656\n",
      "Epoch:  0 | train loss: 0.4108 | test accuracy: 0.7969\n",
      "Epoch:  0 | train loss: 0.3499 | test accuracy: 0.8438\n",
      "Epoch:  0 | train loss: 0.4470 | test accuracy: 0.7500\n",
      "Epoch:  0 | train loss: 0.4339 | test accuracy: 0.8281\n",
      "Epoch:  0 | train loss: 0.4382 | test accuracy: 0.8281\n",
      "Epoch:  0 | train loss: 0.5578 | test accuracy: 0.7656\n",
      "Epoch:  0 | train loss: 0.5177 | test accuracy: 0.7344\n",
      "Epoch:  0 | train loss: 0.6775 | test accuracy: 0.6562\n",
      "Epoch:  0 | train loss: 0.3906 | test accuracy: 0.9062\n",
      "Epoch:  0 | train loss: 0.5082 | test accuracy: 0.7812\n",
      "Epoch:  0 | train loss: 0.4229 | test accuracy: 0.8438\n",
      "Epoch:  0 | train loss: 0.3251 | test accuracy: 0.8594\n",
      "Epoch:  0 | train loss: 0.5448 | test accuracy: 0.7344\n",
      "Epoch:  0 | train loss: 0.4930 | test accuracy: 0.7812\n",
      "Epoch:  0 | train loss: 0.5605 | test accuracy: 0.7500\n",
      "Epoch:  0 | train loss: 0.4443 | test accuracy: 0.7969\n",
      "Epoch:  0 | train loss: 0.4025 | test accuracy: 0.7969\n",
      "Epoch:  0 | train loss: 0.5772 | test accuracy: 0.7188\n",
      "Epoch:  0 | train loss: 0.5045 | test accuracy: 0.8438\n",
      "Epoch:  0 | train loss: 0.5285 | test accuracy: 0.7812\n",
      "Epoch:  0 | train loss: 0.4215 | test accuracy: 0.8125\n",
      "Epoch:  0 | train loss: 0.4939 | test accuracy: 0.7969\n",
      "Epoch:  0 | train loss: 0.5009 | test accuracy: 0.7969\n",
      "Epoch:  0 | train loss: 0.5388 | test accuracy: 0.7500\n",
      "Epoch:  0 | train loss: 0.4103 | test accuracy: 0.7656\n",
      "Epoch:  0 | train loss: 0.5964 | test accuracy: 0.6719\n",
      "Epoch:  0 | train loss: 0.5118 | test accuracy: 0.7812\n",
      "Epoch:  0 | train loss: 0.4557 | test accuracy: 0.7656\n",
      "Epoch:  0 | train loss: 0.5734 | test accuracy: 0.7344\n",
      "Epoch:  0 | train loss: 0.4946 | test accuracy: 0.7656\n",
      "Epoch:  0 | train loss: 0.5003 | test accuracy: 0.7969\n",
      "Epoch:  0 | train loss: 0.5002 | test accuracy: 0.8125\n",
      "Epoch:  0 | train loss: 0.4157 | test accuracy: 0.8281\n",
      "Epoch:  0 | train loss: 0.5566 | test accuracy: 0.7031\n",
      "Epoch:  0 | train loss: 0.4213 | test accuracy: 0.7969\n",
      "Epoch:  0 | train loss: 0.4335 | test accuracy: 0.7969\n",
      "Epoch:  0 | train loss: 0.5561 | test accuracy: 0.7344\n",
      "Epoch:  0 | train loss: 0.5317 | test accuracy: 0.7656\n",
      "Epoch:  0 | train loss: 0.4384 | test accuracy: 0.7812\n",
      "Epoch:  0 | train loss: 0.4857 | test accuracy: 0.8438\n",
      "Epoch:  0 | train loss: 0.6058 | test accuracy: 0.7656\n",
      "Epoch:  0 | train loss: 0.3686 | test accuracy: 0.8750\n",
      "Epoch:  0 | train loss: 0.4842 | test accuracy: 0.7344\n",
      "Epoch:  0 | train loss: 0.5676 | test accuracy: 0.7656\n",
      "Epoch:  0 | train loss: 0.4381 | test accuracy: 0.7500\n",
      "Epoch:  0 | train loss: 0.4372 | test accuracy: 0.8125\n",
      "Epoch:  0 | train loss: 0.5186 | test accuracy: 0.7500\n",
      "Epoch:  0 | train loss: 0.5386 | test accuracy: 0.7344\n",
      "Epoch:  0 | train loss: 0.5195 | test accuracy: 0.7031\n",
      "Epoch:  0 | train loss: 0.5541 | test accuracy: 0.7188\n",
      "Epoch:  0 | train loss: 0.5056 | test accuracy: 0.7812\n",
      "Epoch:  0 | train loss: 0.6351 | test accuracy: 0.7500\n",
      "Epoch:  0 | train loss: 0.5648 | test accuracy: 0.7344\n",
      "Epoch:  0 | train loss: 0.5210 | test accuracy: 0.7656\n",
      "Epoch:  0 | train loss: 0.5634 | test accuracy: 0.7500\n",
      "Epoch:  0 | train loss: 0.3612 | test accuracy: 0.8594\n",
      "Epoch:  0 | train loss: 0.5683 | test accuracy: 0.7656\n",
      "Epoch:  0 | train loss: 0.5305 | test accuracy: 0.7656\n",
      "Epoch:  0 | train loss: 0.4877 | test accuracy: 0.7969\n",
      "Epoch:  0 | train loss: 0.3148 | test accuracy: 0.8438\n",
      "Epoch:  0 | train loss: 0.5497 | test accuracy: 0.7656\n",
      "Epoch:  0 | train loss: 0.5250 | test accuracy: 0.8125\n",
      "Epoch:  0 | train loss: 0.5286 | test accuracy: 0.7656\n",
      "Epoch:  0 | train loss: 0.4851 | test accuracy: 0.7031\n",
      "Epoch:  0 | train loss: 0.3641 | test accuracy: 0.8438\n",
      "Epoch:  0 | train loss: 0.4500 | test accuracy: 0.7656\n",
      "Epoch:  0 | train loss: 0.5663 | test accuracy: 0.7812\n",
      "Epoch:  0 | train loss: 0.5142 | test accuracy: 0.8906\n",
      "Epoch:  0 | train loss: 0.5231 | test accuracy: 0.7812\n",
      "Epoch:  0 | train loss: 0.6944 | test accuracy: 0.6875\n",
      "Epoch:  0 | train loss: 0.5117 | test accuracy: 0.7344\n",
      "Epoch:  0 | train loss: 0.4779 | test accuracy: 0.7812\n",
      "Epoch:  0 | train loss: 0.4810 | test accuracy: 0.7656\n",
      "Epoch:  0 | train loss: 0.5077 | test accuracy: 0.7656\n",
      "Epoch:  0 | train loss: 0.6315 | test accuracy: 0.7344\n",
      "Epoch:  0 | train loss: 0.4456 | test accuracy: 0.7656\n",
      "Epoch:  0 | train loss: 0.5556 | test accuracy: 0.7656\n",
      "Epoch:  0 | train loss: 0.4368 | test accuracy: 0.7969\n",
      "Epoch:  0 | train loss: 0.4523 | test accuracy: 0.8438\n",
      "Epoch:  0 | train loss: 0.4949 | test accuracy: 0.7812\n",
      "Epoch:  0 | train loss: 0.3961 | test accuracy: 0.8438\n",
      "Epoch:  0 | train loss: 0.5534 | test accuracy: 0.7500\n",
      "Epoch:  0 | train loss: 0.7023 | test accuracy: 0.7031\n",
      "Epoch:  0 | train loss: 0.5755 | test accuracy: 0.7344\n",
      "Epoch:  0 | train loss: 0.6654 | test accuracy: 0.6562\n",
      "Epoch:  0 | train loss: 0.5389 | test accuracy: 0.7656\n",
      "Epoch:  0 | train loss: 0.5153 | test accuracy: 0.7500\n",
      "Epoch:  0 | train loss: 0.5225 | test accuracy: 0.8125\n",
      "Epoch:  0 | train loss: 0.6858 | test accuracy: 0.6875\n",
      "Epoch:  0 | train loss: 0.5557 | test accuracy: 0.7812\n",
      "Epoch:  0 | train loss: 0.4736 | test accuracy: 0.7812\n",
      "Epoch:  0 | train loss: 0.5756 | test accuracy: 0.7031\n",
      "Epoch:  0 | train loss: 0.4542 | test accuracy: 0.8125\n",
      "Epoch:  0 | train loss: 0.5960 | test accuracy: 0.7344\n",
      "Epoch:  0 | train loss: 0.4454 | test accuracy: 0.9062\n",
      "Epoch:  0 | train loss: 0.5123 | test accuracy: 0.7031\n",
      "Epoch:  0 | train loss: 0.3953 | test accuracy: 0.8594\n",
      "Epoch:  0 | train loss: 0.5362 | test accuracy: 0.7656\n",
      "Epoch:  0 | train loss: 0.7168 | test accuracy: 0.7031\n",
      "Epoch:  0 | train loss: 0.5820 | test accuracy: 0.7500\n",
      "Epoch:  0 | train loss: 0.4023 | test accuracy: 0.8438\n",
      "Epoch:  0 | train loss: 0.4770 | test accuracy: 0.8438\n",
      "Epoch:  0 | train loss: 0.4837 | test accuracy: 0.7656\n",
      "Epoch:  0 | train loss: 0.5575 | test accuracy: 0.7031\n",
      "Epoch:  0 | train loss: 0.4268 | test accuracy: 0.8125\n"
     ]
    },
    {
     "name": "stdout",
     "output_type": "stream",
     "text": [
      "Epoch:  0 | train loss: 0.4830 | test accuracy: 0.8125\n",
      "Epoch:  0 | train loss: 0.5706 | test accuracy: 0.7500\n",
      "Epoch:  0 | train loss: 0.5117 | test accuracy: 0.6875\n",
      "Epoch:  0 | train loss: 0.3984 | test accuracy: 0.8281\n",
      "Epoch:  0 | train loss: 0.4327 | test accuracy: 0.7969\n",
      "Epoch:  0 | train loss: 0.4561 | test accuracy: 0.7656\n",
      "Epoch:  0 | train loss: 0.5740 | test accuracy: 0.6719\n",
      "Epoch:  0 | train loss: 0.3407 | test accuracy: 0.8906\n",
      "Epoch:  0 | train loss: 0.3258 | test accuracy: 0.8750\n",
      "Epoch:  0 | train loss: 0.4653 | test accuracy: 0.8125\n",
      "Epoch:  0 | train loss: 0.5959 | test accuracy: 0.7344\n",
      "Epoch:  0 | train loss: 0.5972 | test accuracy: 0.7188\n",
      "Epoch:  0 | train loss: 0.4248 | test accuracy: 0.7969\n",
      "Epoch:  0 | train loss: 0.4184 | test accuracy: 0.7812\n",
      "Epoch:  0 | train loss: 0.5259 | test accuracy: 0.7969\n",
      "Epoch:  0 | train loss: 0.4082 | test accuracy: 0.8281\n",
      "Epoch:  0 | train loss: 0.5118 | test accuracy: 0.7188\n",
      "Epoch:  0 | train loss: 0.4128 | test accuracy: 0.8125\n",
      "Epoch:  0 | train loss: 0.6066 | test accuracy: 0.7188\n",
      "Epoch:  0 | train loss: 0.3798 | test accuracy: 0.8594\n",
      "Epoch:  0 | train loss: 0.5112 | test accuracy: 0.7188\n",
      "Epoch:  0 | train loss: 0.4715 | test accuracy: 0.7969\n",
      "Epoch:  0 | train loss: 0.5846 | test accuracy: 0.7188\n",
      "Epoch:  0 | train loss: 0.4278 | test accuracy: 0.8281\n",
      "Epoch:  0 | train loss: 0.6043 | test accuracy: 0.7500\n",
      "Epoch:  0 | train loss: 0.4077 | test accuracy: 0.8125\n",
      "Epoch:  0 | train loss: 0.5500 | test accuracy: 0.7656\n",
      "Epoch:  0 | train loss: 0.4681 | test accuracy: 0.7969\n",
      "Epoch:  0 | train loss: 0.4956 | test accuracy: 0.7812\n",
      "Epoch:  0 | train loss: 0.3833 | test accuracy: 0.8438\n",
      "Epoch:  0 | train loss: 0.4321 | test accuracy: 0.7969\n",
      "Epoch:  0 | train loss: 0.6001 | test accuracy: 0.7188\n",
      "Epoch:  0 | train loss: 0.6044 | test accuracy: 0.7031\n",
      "Epoch:  0 | train loss: 0.5554 | test accuracy: 0.7188\n",
      "Epoch:  0 | train loss: 0.4955 | test accuracy: 0.7812\n",
      "Epoch:  0 | train loss: 0.4811 | test accuracy: 0.8281\n",
      "Epoch:  0 | train loss: 0.4231 | test accuracy: 0.7500\n",
      "Epoch:  0 | train loss: 0.5149 | test accuracy: 0.7188\n",
      "Epoch:  0 | train loss: 0.2363 | test accuracy: 0.9219\n",
      "Epoch:  0 | train loss: 0.5776 | test accuracy: 0.6719\n",
      "Epoch:  0 | train loss: 0.7004 | test accuracy: 0.6562\n",
      "Epoch:  0 | train loss: 0.4203 | test accuracy: 0.8281\n",
      "Epoch:  0 | train loss: 0.5247 | test accuracy: 0.8125\n",
      "Epoch:  0 | train loss: 0.5216 | test accuracy: 0.7500\n",
      "Epoch:  0 | train loss: 0.4267 | test accuracy: 0.8281\n",
      "Epoch:  0 | train loss: 0.5647 | test accuracy: 0.6875\n",
      "Epoch:  0 | train loss: 0.6104 | test accuracy: 0.7188\n",
      "Epoch:  0 | train loss: 0.5039 | test accuracy: 0.7344\n",
      "Epoch:  0 | train loss: 0.4675 | test accuracy: 0.8438\n",
      "Epoch:  0 | train loss: 0.4314 | test accuracy: 0.7656\n",
      "Epoch:  0 | train loss: 0.4196 | test accuracy: 0.8125\n",
      "Epoch:  0 | train loss: 0.4488 | test accuracy: 0.7969\n",
      "Epoch:  0 | train loss: 0.5791 | test accuracy: 0.7500\n",
      "Epoch:  0 | train loss: 0.5010 | test accuracy: 0.7656\n",
      "Epoch:  0 | train loss: 0.5191 | test accuracy: 0.7969\n",
      "Epoch:  0 | train loss: 0.5355 | test accuracy: 0.8281\n",
      "Epoch:  0 | train loss: 0.3785 | test accuracy: 0.8594\n",
      "Epoch:  0 | train loss: 0.6715 | test accuracy: 0.7344\n",
      "Epoch:  0 | train loss: 0.5407 | test accuracy: 0.7812\n",
      "Epoch:  0 | train loss: 0.4686 | test accuracy: 0.7344\n",
      "Epoch:  0 | train loss: 0.3774 | test accuracy: 0.8438\n",
      "Epoch:  0 | train loss: 0.6053 | test accuracy: 0.7500\n",
      "Epoch:  0 | train loss: 0.4963 | test accuracy: 0.7656\n",
      "Epoch:  0 | train loss: 0.5585 | test accuracy: 0.7344\n",
      "Epoch:  0 | train loss: 0.3861 | test accuracy: 0.8594\n",
      "Epoch:  0 | train loss: 0.4351 | test accuracy: 0.8281\n",
      "Epoch:  0 | train loss: 0.4576 | test accuracy: 0.8438\n",
      "Epoch:  0 | train loss: 0.4474 | test accuracy: 0.7969\n",
      "Epoch:  0 | train loss: 0.5804 | test accuracy: 0.7812\n",
      "Epoch:  0 | train loss: 0.5432 | test accuracy: 0.8125\n",
      "Epoch:  0 | train loss: 0.4211 | test accuracy: 0.8125\n",
      "Epoch:  0 | train loss: 0.4895 | test accuracy: 0.7656\n",
      "Epoch:  0 | train loss: 0.5445 | test accuracy: 0.7969\n",
      "Epoch:  0 | train loss: 0.5135 | test accuracy: 0.8281\n",
      "Epoch:  0 | train loss: 0.5655 | test accuracy: 0.7344\n",
      "Epoch:  0 | train loss: 0.5059 | test accuracy: 0.8125\n",
      "Epoch:  0 | train loss: 0.5115 | test accuracy: 0.7188\n",
      "Epoch:  0 | train loss: 0.4421 | test accuracy: 0.8125\n",
      "Epoch:  0 | train loss: 0.4723 | test accuracy: 0.7812\n",
      "Epoch:  0 | train loss: 0.4769 | test accuracy: 0.8281\n",
      "Epoch:  0 | train loss: 0.5966 | test accuracy: 0.7344\n",
      "Epoch:  0 | train loss: 0.5499 | test accuracy: 0.7656\n",
      "Epoch:  0 | train loss: 0.3523 | test accuracy: 0.8438\n",
      "Epoch:  0 | train loss: 0.4662 | test accuracy: 0.7812\n",
      "Epoch:  0 | train loss: 0.6390 | test accuracy: 0.6719\n",
      "Epoch:  0 | train loss: 0.5124 | test accuracy: 0.8594\n",
      "Epoch:  0 | train loss: 0.4166 | test accuracy: 0.8281\n",
      "Epoch:  0 | train loss: 0.4190 | test accuracy: 0.7500\n",
      "Epoch:  0 | train loss: 0.5166 | test accuracy: 0.7969\n",
      "Epoch:  0 | train loss: 0.3791 | test accuracy: 0.8281\n",
      "Epoch:  0 | train loss: 0.4689 | test accuracy: 0.7344\n",
      "Epoch:  0 | train loss: 0.5745 | test accuracy: 0.7969\n",
      "Epoch:  0 | train loss: 0.5158 | test accuracy: 0.7969\n",
      "Epoch:  0 | train loss: 0.5780 | test accuracy: 0.7656\n",
      "Epoch:  0 | train loss: 0.4868 | test accuracy: 0.7812\n",
      "Epoch:  0 | train loss: 0.6632 | test accuracy: 0.7188\n",
      "Epoch:  0 | train loss: 0.7180 | test accuracy: 0.7188\n",
      "Epoch:  0 | train loss: 0.4796 | test accuracy: 0.7812\n",
      "Epoch:  0 | train loss: 0.5305 | test accuracy: 0.7969\n",
      "Epoch:  0 | train loss: 0.6575 | test accuracy: 0.7500\n",
      "Epoch:  0 | train loss: 0.4097 | test accuracy: 0.7969\n",
      "Epoch:  0 | train loss: 0.4197 | test accuracy: 0.8125\n",
      "Epoch:  0 | train loss: 0.5026 | test accuracy: 0.8125\n",
      "Epoch:  0 | train loss: 0.4494 | test accuracy: 0.7656\n",
      "Epoch:  0 | train loss: 0.5214 | test accuracy: 0.7500\n",
      "Epoch:  0 | train loss: 0.5728 | test accuracy: 0.7500\n",
      "Epoch:  0 | train loss: 0.4494 | test accuracy: 0.8281\n",
      "Epoch:  0 | train loss: 0.4575 | test accuracy: 0.7812\n",
      "Epoch:  0 | train loss: 0.5158 | test accuracy: 0.7188\n",
      "Epoch:  0 | train loss: 0.4849 | test accuracy: 0.7969\n",
      "Epoch:  0 | train loss: 0.4369 | test accuracy: 0.8438\n",
      "Epoch:  0 | train loss: 0.5967 | test accuracy: 0.7188\n",
      "Epoch:  0 | train loss: 0.3775 | test accuracy: 0.7969\n",
      "Epoch:  0 | train loss: 0.6148 | test accuracy: 0.7812\n",
      "Epoch:  0 | train loss: 0.3478 | test accuracy: 0.8281\n",
      "Epoch:  0 | train loss: 0.4622 | test accuracy: 0.7656\n",
      "Epoch:  0 | train loss: 0.5497 | test accuracy: 0.7344\n",
      "Epoch:  0 | train loss: 0.4504 | test accuracy: 0.8438\n",
      "Epoch:  0 | train loss: 0.5010 | test accuracy: 0.7969\n",
      "Epoch:  0 | train loss: 0.4890 | test accuracy: 0.8125\n",
      "Epoch:  0 | train loss: 0.4551 | test accuracy: 0.7969\n",
      "Epoch:  0 | train loss: 0.4418 | test accuracy: 0.8281\n",
      "Epoch:  0 | train loss: 0.6599 | test accuracy: 0.7031\n",
      "Epoch:  0 | train loss: 0.5903 | test accuracy: 0.7500\n",
      "Epoch:  0 | train loss: 0.4068 | test accuracy: 0.7969\n",
      "Epoch:  0 | train loss: 0.4312 | test accuracy: 0.8125\n",
      "Epoch:  0 | train loss: 0.5738 | test accuracy: 0.7656\n",
      "Epoch:  0 | train loss: 0.3902 | test accuracy: 0.8438\n",
      "Epoch:  0 | train loss: 0.5291 | test accuracy: 0.7344\n",
      "Epoch:  0 | train loss: 0.5776 | test accuracy: 0.7031\n",
      "Epoch:  0 | train loss: 0.4704 | test accuracy: 0.8125\n",
      "Epoch:  0 | train loss: 0.3851 | test accuracy: 0.8594\n",
      "Epoch:  0 | train loss: 0.4714 | test accuracy: 0.8438\n",
      "Epoch:  0 | train loss: 0.5011 | test accuracy: 0.7812\n",
      "Epoch:  0 | train loss: 0.4349 | test accuracy: 0.7656\n",
      "Epoch:  0 | train loss: 0.4637 | test accuracy: 0.8750\n",
      "Epoch:  0 | train loss: 0.4382 | test accuracy: 0.7656\n",
      "Epoch:  0 | train loss: 0.5264 | test accuracy: 0.7500\n",
      "Epoch:  0 | train loss: 0.5229 | test accuracy: 0.7500\n",
      "Epoch:  0 | train loss: 0.4272 | test accuracy: 0.8125\n",
      "Epoch:  0 | train loss: 0.5365 | test accuracy: 0.7344\n",
      "Epoch:  0 | train loss: 0.5045 | test accuracy: 0.7344\n",
      "Epoch:  0 | train loss: 0.4439 | test accuracy: 0.7969\n",
      "Epoch:  0 | train loss: 0.5377 | test accuracy: 0.7812\n",
      "Epoch:  0 | train loss: 0.5848 | test accuracy: 0.6719\n",
      "Epoch:  0 | train loss: 0.4106 | test accuracy: 0.8438\n",
      "Epoch:  0 | train loss: 0.4995 | test accuracy: 0.7656\n",
      "Epoch:  0 | train loss: 0.5789 | test accuracy: 0.7500\n",
      "Epoch:  0 | train loss: 0.5309 | test accuracy: 0.7812\n"
     ]
    },
    {
     "name": "stdout",
     "output_type": "stream",
     "text": [
      "Epoch:  0 | train loss: 0.5988 | test accuracy: 0.7344\n",
      "Epoch:  0 | train loss: 0.6125 | test accuracy: 0.7031\n",
      "Epoch:  0 | train loss: 0.4309 | test accuracy: 0.7500\n",
      "Epoch:  0 | train loss: 0.6272 | test accuracy: 0.7188\n",
      "Epoch:  0 | train loss: 0.3885 | test accuracy: 0.8438\n",
      "Epoch:  0 | train loss: 0.4066 | test accuracy: 0.8281\n",
      "Epoch:  0 | train loss: 0.4417 | test accuracy: 0.8125\n",
      "Epoch:  0 | train loss: 0.4083 | test accuracy: 0.7969\n",
      "Epoch:  0 | train loss: 0.5151 | test accuracy: 0.7344\n",
      "Epoch:  0 | train loss: 0.5128 | test accuracy: 0.7969\n",
      "Epoch:  0 | train loss: 0.5361 | test accuracy: 0.7969\n",
      "Epoch:  0 | train loss: 0.4936 | test accuracy: 0.7812\n",
      "Epoch:  0 | train loss: 0.5287 | test accuracy: 0.7344\n",
      "Epoch:  0 | train loss: 0.6851 | test accuracy: 0.6406\n",
      "Epoch:  0 | train loss: 0.6872 | test accuracy: 0.8125\n",
      "Epoch:  0 | train loss: 0.6124 | test accuracy: 0.7656\n",
      "Epoch:  0 | train loss: 0.4389 | test accuracy: 0.7500\n",
      "Epoch:  0 | train loss: 0.6125 | test accuracy: 0.7812\n",
      "Epoch:  0 | train loss: 0.5272 | test accuracy: 0.7500\n",
      "Epoch:  0 | train loss: 0.5774 | test accuracy: 0.7188\n",
      "Epoch:  0 | train loss: 0.5501 | test accuracy: 0.8125\n",
      "Epoch:  0 | train loss: 0.5277 | test accuracy: 0.7812\n",
      "Epoch:  0 | train loss: 0.4513 | test accuracy: 0.7969\n",
      "Epoch:  0 | train loss: 0.4260 | test accuracy: 0.7656\n",
      "Epoch:  0 | train loss: 0.3671 | test accuracy: 0.8438\n",
      "Epoch:  0 | train loss: 0.5999 | test accuracy: 0.7344\n",
      "Epoch:  0 | train loss: 0.5386 | test accuracy: 0.7031\n",
      "Epoch:  0 | train loss: 0.5063 | test accuracy: 0.7500\n",
      "Epoch:  0 | train loss: 0.4442 | test accuracy: 0.8281\n",
      "Epoch:  0 | train loss: 0.5009 | test accuracy: 0.7812\n",
      "Epoch:  0 | train loss: 0.4767 | test accuracy: 0.8125\n"
     ]
    }
   ],
   "source": [
    "for epoch in range(10):\n",
    "    \n",
    "    for index, (board, direc) in enumerate(train_loader):\n",
    "        board, direc = Variable(board), Variable(direc)\n",
    "        if torch.cuda.is_available():\n",
    "            board, direc = board.cuda(), direc.cuda()\n",
    "            model.cuda()\n",
    "\n",
    "        board = board.view(-1,4,4)\n",
    "        out = model(board)\n",
    "        loss = criterion(out, direc)\n",
    "        optimizer.zero_grad()\n",
    "        loss.backward()\n",
    "        optimizer.step()\n",
    "\n",
    "        # train_loss += loss.data[0]\n",
    "        # pred = torch.max(out, 1)[1]\n",
    "        # train_correct = (pred == direc).sum().item()\n",
    "        # train_acc += train_correct\n",
    "\n",
    "        if index % 50 == 0:\n",
    "            out = model(board)\n",
    "            pred = torch.max(out, 1)[1]\n",
    "            train_correct = (pred == direc).sum().item()\n",
    "            print('Epoch: ', epoch, '| train loss: %.4f' % loss,\n",
    "                  '| test accuracy: %.4f' % (train_correct/(BATCH_SIZE * 1.0)))\n",
    "    torch.save(model, '/DATA5_DB8/data/gjliu/game2048/model/model_rnn_256_dataup/rnn_256_model_' + str(epoch+25) + '.pkl')\n",
    "torch.save(model, '/DATA5_DB8/data/gjliu/game2048/model/model_rnn_256_dataup/rnn_256_model_final.pkl')"
   ]
  },
  {
   "cell_type": "code",
   "execution_count": null,
   "metadata": {},
   "outputs": [],
   "source": [
    "game = Game(4, score_to_win=2048, random=False)\n",
    "game2 =game\n",
    "display2.display(game)\n",
    "# my agent\n",
    "agent = MyRnnAgent(game, display=display2)\n",
    "agent.play(verbose=True)"
   ]
  },
  {
   "cell_type": "code",
   "execution_count": 74,
   "metadata": {},
   "outputs": [],
   "source": [
    "agent2 = MyRnnAgent2(game2, display=display2)\n",
    "agent2.play(verbose=True)"
   ]
  },
  {
   "cell_type": "code",
   "execution_count": 75,
   "metadata": {},
   "outputs": [
    {
     "ename": "AttributeError",
     "evalue": "'Game' object has no attribute '__board'",
     "output_type": "error",
     "traceback": [
      "\u001b[0;31m---------------------------------------------------------------------------\u001b[0m",
      "\u001b[0;31mAttributeError\u001b[0m                            Traceback (most recent call last)",
      "\u001b[0;32m<ipython-input-75-388af7178d7b>\u001b[0m in \u001b[0;36m<module>\u001b[0;34m\u001b[0m\n\u001b[0;32m----> 1\u001b[0;31m \u001b[0mprint\u001b[0m\u001b[0;34m(\u001b[0m\u001b[0mgame2\u001b[0m\u001b[0;34m.\u001b[0m\u001b[0m__board\u001b[0m\u001b[0;34m)\u001b[0m\u001b[0;34m\u001b[0m\u001b[0;34m\u001b[0m\u001b[0m\n\u001b[0m",
      "\u001b[0;31mAttributeError\u001b[0m: 'Game' object has no attribute '__board'"
     ]
    }
   ],
   "source": [
    "print(game2.__board)"
   ]
  },
  {
   "cell_type": "code",
   "execution_count": 30,
   "metadata": {},
   "outputs": [
    {
     "name": "stdout",
     "output_type": "stream",
     "text": [
      "tensor([[[0.0000, 0.0000, 0.0000, 0.0000],\n",
      "         [0.0000, 0.0000, 0.0909, 0.0000],\n",
      "         [0.0000, 0.1818, 0.0000, 0.0000],\n",
      "         [0.0000, 0.0000, 0.0000, 0.0000]]]) 3\n"
     ]
    }
   ],
   "source": [
    "game = Game(4, score_to_win=2048, random=False)\n",
    "display2.display(game)\n",
    "agent = ExpectiMaxAgent(game, display=display2)\n",
    "agent.play(verbose=True)"
   ]
  },
  {
   "cell_type": "code",
   "execution_count": 8,
   "metadata": {},
   "outputs": [],
   "source": [
    "Data0 = pd.read_csv('/DB/rhome/gjliu/ML-EE228/2048-api/Train.csv').values"
   ]
  },
  {
   "cell_type": "code",
   "execution_count": 9,
   "metadata": {},
   "outputs": [
    {
     "name": "stdout",
     "output_type": "stream",
     "text": [
      "(696, 17)\n",
      "<class 'numpy.ndarray'>\n",
      "[0 0 0 0 0 0 1 0 0 2 0 0 0 0 0 0]\n",
      "[0 0 0 0 0 0 1 0 0 2 0 0 0 0 0 0 3]\n",
      "3\n"
     ]
    }
   ],
   "source": [
    "print(np.shape(Data0))\n",
    "print(type(Data0))\n",
    "print((Data0[0, 0:-1]))\n",
    "print((Data0[0, :]))\n",
    "print(Data0[0, -1])"
   ]
  },
  {
   "cell_type": "code",
   "execution_count": 26,
   "metadata": {},
   "outputs": [
    {
     "name": "stdout",
     "output_type": "stream",
     "text": [
      "[[0 0 0 0]\n",
      " [0 0 1 0]\n",
      " [0 2 0 0]\n",
      " [0 0 0 0]]\n",
      "(4, 4)\n",
      "(4, 4, 1)\n",
      "3\n",
      "tensor([[[0.0000, 0.0000, 0.0000, 0.0000],\n",
      "         [0.0000, 0.0000, 0.0909, 0.0000],\n",
      "         [0.0000, 0.1818, 0.0000, 0.0000],\n",
      "         [0.0000, 0.0000, 0.0000, 0.0000]]], dtype=torch.float64)\n",
      "<class 'torch.Tensor'>\n",
      "torch.Size([1, 4, 4])\n",
      "tensor([[[0.0000, 0.0000, 0.0000, 0.0000],\n",
      "         [0.0000, 0.0000, 0.0909, 0.0000],\n",
      "         [0.0000, 0.1818, 0.0000, 0.0000],\n",
      "         [0.0000, 0.0000, 0.0000, 0.0000]]])\n",
      "<class 'torch.Tensor'>\n",
      "torch.Size([1, 4, 4])\n",
      "696\n"
     ]
    }
   ],
   "source": [
    "board = Data0[:, 0:-1]\n",
    "board = board[0].reshape((4, 4))\n",
    "print(board)\n",
    "print(board.shape)\n",
    "board = board[:, :, np.newaxis]\n",
    "board = board/11.0\n",
    "#print(board)\n",
    "print(board.shape)\n",
    "direc = Data0[:, -1]\n",
    "print(direc[7])\n",
    "board = transforms.Compose(transforms=[transforms.ToTensor()])(board)\n",
    "print(board)\n",
    "print(type(board))\n",
    "print(board.shape)\n",
    "board = board.type(torch.float)\n",
    "print(board)\n",
    "print(type(board))\n",
    "print(board.shape)\n",
    "print(len(Data0))"
   ]
  },
  {
   "cell_type": "code",
   "execution_count": 11,
   "metadata": {},
   "outputs": [
    {
     "data": {
      "text/html": [
       "<h1>Score: 4</h1><table style=\"border: 5px solid black;\"><tr><td style=\"border:3px solid black; text-align:center;\"\n",
       "         width=\"40\" height=\"40\"></td><td style=\"border:3px solid black; text-align:center;\"\n",
       "         width=\"40\" height=\"40\"></td><td style=\"border:3px solid black; text-align:center;\"\n",
       "         width=\"40\" height=\"40\"></td><td style=\"border:3px solid black; text-align:center;\"\n",
       "         width=\"40\" height=\"40\"></td></tr><tr><td style=\"border:3px solid black; text-align:center;\"\n",
       "         width=\"40\" height=\"40\"></td><td style=\"border:3px solid black; text-align:center;\"\n",
       "         width=\"40\" height=\"40\">2</td><td style=\"border:3px solid black; text-align:center;\"\n",
       "         width=\"40\" height=\"40\"></td><td style=\"border:3px solid black; text-align:center;\"\n",
       "         width=\"40\" height=\"40\"></td></tr><tr><td style=\"border:3px solid black; text-align:center;\"\n",
       "         width=\"40\" height=\"40\">4</td><td style=\"border:3px solid black; text-align:center;\"\n",
       "         width=\"40\" height=\"40\"></td><td style=\"border:3px solid black; text-align:center;\"\n",
       "         width=\"40\" height=\"40\"></td><td style=\"border:3px solid black; text-align:center;\"\n",
       "         width=\"40\" height=\"40\"></td></tr><tr><td style=\"border:3px solid black; text-align:center;\"\n",
       "         width=\"40\" height=\"40\"></td><td style=\"border:3px solid black; text-align:center;\"\n",
       "         width=\"40\" height=\"40\"></td><td style=\"border:3px solid black; text-align:center;\"\n",
       "         width=\"40\" height=\"40\"></td><td style=\"border:3px solid black; text-align:center;\"\n",
       "         width=\"40\" height=\"40\"></td></tr></table>"
      ],
      "text/plain": [
       "<IPython.core.display.HTML object>"
      ]
     },
     "metadata": {},
     "output_type": "display_data"
    },
    {
     "name": "stdout",
     "output_type": "stream",
     "text": [
      "[[0. 0. 0. 0.]\n",
      " [0. 2. 0. 0.]\n",
      " [4. 0. 0. 0.]\n",
      " [0. 0. 0. 0.]]\n",
      "[[1. 1. 1. 1.]\n",
      " [1. 2. 1. 1.]\n",
      " [4. 1. 1. 1.]\n",
      " [1. 1. 1. 1.]]\n",
      "[[0. 0. 0. 0.]\n",
      " [0. 1. 0. 0.]\n",
      " [2. 0. 0. 0.]\n",
      " [0. 0. 0. 0.]]\n",
      "[[[0.]\n",
      "  [0.]\n",
      "  [0.]\n",
      "  [0.]]\n",
      "\n",
      " [[0.]\n",
      "  [1.]\n",
      "  [0.]\n",
      "  [0.]]\n",
      "\n",
      " [[2.]\n",
      "  [0.]\n",
      "  [0.]\n",
      "  [0.]]\n",
      "\n",
      " [[0.]\n",
      "  [0.]\n",
      "  [0.]\n",
      "  [0.]]]\n"
     ]
    }
   ],
   "source": [
    "game = Game(4, score_to_win=2048, random=False)\n",
    "display2.display(game)\n",
    "print(game.board)\n",
    "board = np.where(game.board == 0, 1, game.board)\n",
    "print(board)\n",
    "board = np.log2(board)\n",
    "# print(board)\n",
    "# board = board.reshape((4, 4))\n",
    "print(board)\n",
    "board = board[:, :, np.newaxis]\n",
    "print(board)"
   ]
  },
  {
   "cell_type": "code",
   "execution_count": 64,
   "metadata": {},
   "outputs": [
    {
     "name": "stdout",
     "output_type": "stream",
     "text": [
      "tensor([1])\n"
     ]
    }
   ],
   "source": [
    "model = torch.load('/DB/rhome/gjliu/ML-EE228/2048-api/model/rnn_model_final.pkl', map_location='cpu')\n",
    "game = Game(4, score_to_win=2048, random=True)\n",
    "board = np.where(game.board == 0, 1, game.board)\n",
    "board = np.log2(board)\n",
    "board = board[:, :, np.newaxis]\n",
    "\n",
    "board = board/ 11.0\n",
    "\n",
    "trans = transforms.Compose([transforms.ToTensor()])\n",
    "board = trans(board)\n",
    "\n",
    "board = board.type(torch.float)\n",
    "\n",
    "out = model(board)\n",
    "\n",
    "direction = torch.max(out, 1)[1]\n",
    "print(direction)"
   ]
  },
  {
   "cell_type": "code",
   "execution_count": 36,
   "metadata": {},
   "outputs": [
    {
     "name": "stdout",
     "output_type": "stream",
     "text": [
      "[[0 0 0 1]\n",
      " [0 1 0 1]\n",
      " [0 0 0 0]\n",
      " [0 0 0 0]]\n",
      "[[[1 0 0 0 0 0 0 0 0 0 0 0 0 0 0 0]\n",
      "  [1 0 0 0 0 0 0 0 0 0 0 0 0 0 0 0]\n",
      "  [1 0 0 0 0 0 0 0 0 0 0 0 0 0 0 0]\n",
      "  [0 1 0 0 0 0 0 0 0 0 0 0 0 0 0 0]]\n",
      "\n",
      " [[1 0 0 0 0 0 0 0 0 0 0 0 0 0 0 0]\n",
      "  [0 1 0 0 0 0 0 0 0 0 0 0 0 0 0 0]\n",
      "  [1 0 0 0 0 0 0 0 0 0 0 0 0 0 0 0]\n",
      "  [0 1 0 0 0 0 0 0 0 0 0 0 0 0 0 0]]\n",
      "\n",
      " [[1 0 0 0 0 0 0 0 0 0 0 0 0 0 0 0]\n",
      "  [1 0 0 0 0 0 0 0 0 0 0 0 0 0 0 0]\n",
      "  [1 0 0 0 0 0 0 0 0 0 0 0 0 0 0 0]\n",
      "  [1 0 0 0 0 0 0 0 0 0 0 0 0 0 0 0]]\n",
      "\n",
      " [[1 0 0 0 0 0 0 0 0 0 0 0 0 0 0 0]\n",
      "  [1 0 0 0 0 0 0 0 0 0 0 0 0 0 0 0]\n",
      "  [1 0 0 0 0 0 0 0 0 0 0 0 0 0 0 0]\n",
      "  [1 0 0 0 0 0 0 0 0 0 0 0 0 0 0 0]]]\n"
     ]
    }
   ],
   "source": [
    "def onehot(board):\n",
    "    ret = np.zeros(shape=(4,4,16),dtype=bool)\n",
    "    for r in range(4):\n",
    "        for c in range(4):\n",
    "            ret[r,c,board[r,c]] = 1\n",
    "    return ret\n",
    "\n",
    "\n",
    "Data0 = pd.read_csv('/DATA5_DB8/data/gjliu/game2048/dataset/Train_special.csv').values\n",
    "board = Data0[:, 0:-1]\n",
    "board = board[1].reshape((4, 4))\n",
    "print(board)\n",
    "board = onehot(board)\n",
    "board = board.astype(np.int)\n",
    "\n",
    "print(board)\n"
   ]
  },
  {
   "cell_type": "code",
   "execution_count": null,
   "metadata": {},
   "outputs": [],
   "source": []
  }
 ],
 "metadata": {
  "kernelspec": {
   "display_name": "Python 3",
   "language": "python",
   "name": "python3"
  },
  "language_info": {
   "codemirror_mode": {
    "name": "ipython",
    "version": 3
   },
   "file_extension": ".py",
   "mimetype": "text/x-python",
   "name": "python",
   "nbconvert_exporter": "python",
   "pygments_lexer": "ipython3",
   "version": "3.6.8"
  }
 },
 "nbformat": 4,
 "nbformat_minor": 2
}
